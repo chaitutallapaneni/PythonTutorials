{
 "cells": [
  {
   "cell_type": "markdown",
   "metadata": {
    "id": "CCbzXW8jYhe7"
   },
   "source": [
    "# Python Basics\n",
    "## Python Arithmetic Examples"
   ]
  },
  {
   "cell_type": "markdown",
   "metadata": {
    "id": "Q7veC95bYhe-"
   },
   "source": [
    "![image.png](attachment:image.png)"
   ]
  },
  {
   "cell_type": "code",
   "execution_count": null,
   "metadata": {
    "colab": {
     "base_uri": "https://localhost:8080/"
    },
    "id": "C74As_LjYhe-",
    "outputId": "a75bd042-139b-4bff-81ca-abf80e6c3092"
   },
   "outputs": [],
   "source": [
    "2+3*6"
   ]
  },
  {
   "cell_type": "code",
   "execution_count": null,
   "metadata": {
    "id": "wmSrDqAyYhfA",
    "outputId": "73ef15f8-2eb2-4e6f-8c5a-b379b6eeb0c0"
   },
   "outputs": [],
   "source": [
    "(2+3)*6"
   ]
  },
  {
   "cell_type": "code",
   "execution_count": null,
   "metadata": {
    "id": "M2WhDwATYhfA",
    "outputId": "a16b12af-5d5c-45d4-c83f-a08bdfee09ef"
   },
   "outputs": [],
   "source": [
    "2**8"
   ]
  },
  {
   "cell_type": "code",
   "execution_count": null,
   "metadata": {
    "id": "K3wxTuceYhfB",
    "outputId": "6bc62b29-06a6-4e23-cbde-a1151e98e3a6"
   },
   "outputs": [],
   "source": [
    "23//7"
   ]
  },
  {
   "cell_type": "code",
   "execution_count": null,
   "metadata": {
    "id": "a7sbOQJCYhfB",
    "outputId": "46f87a81-7ef0-45e2-8a16-0146742e526b"
   },
   "outputs": [],
   "source": [
    "23%7"
   ]
  },
  {
   "cell_type": "code",
   "execution_count": null,
   "metadata": {
    "id": "3FR4XJqsYhfC",
    "outputId": "0ba0313d-0883-421f-ac71-23a27084e04f"
   },
   "outputs": [],
   "source": [
    "(5-1)*((7+1)/(3-1))"
   ]
  },
  {
   "cell_type": "markdown",
   "metadata": {
    "id": "dxsuVS-GYhfC"
   },
   "source": [
    "## Data Types\n",
    "\n",
    "Data Type\n",
    "\n",
    "Examples\n",
    "\n",
    "\n",
    "Integers -2, -1, 0, 1, 2, 3, 4, 5 \n",
    "Floating-point numbers -1.25, -1.0, --0.5, 0.0, 0.5, 1.0, 1.25 \n",
    "Strings 'a', 'aa', 'aaa', 'Hello!', '11 cats' \n",
    "\n",
    "String Concatenation and Replication\n",
    "\n",
    "String concatenation:\n"
   ]
  },
  {
   "cell_type": "code",
   "execution_count": null,
   "metadata": {
    "id": "0hlqjwFqYhfD",
    "outputId": "0dd75218-b962-4217-86f1-8befd7ce9ee0"
   },
   "outputs": [],
   "source": [
    "'Alice'+'Bob'"
   ]
  },
  {
   "cell_type": "code",
   "execution_count": null,
   "metadata": {
    "id": "XvgMeaFsYhfD",
    "outputId": "978fb2aa-5f82-4467-c164-b150f8fff552"
   },
   "outputs": [],
   "source": [
    "'Alice'*5"
   ]
  },
  {
   "cell_type": "markdown",
   "metadata": {
    "id": "rO4bUSYAYhfE"
   },
   "source": [
    "## Variables\n",
    "\n",
    "    You can name a variable anything as long as it obeys the following rules:\n",
    "    1.It can be only one word.\n",
    "    2.It can use only letters, numbers, and the underscore (_) character.\n",
    "    3.It can’t begin with a number.\n",
    "    4.Variable name starting with an underscore (_) are considered as \"unuseful`.\n"
   ]
  },
  {
   "cell_type": "code",
   "execution_count": null,
   "metadata": {
    "id": "K-G1A9D2YhfE",
    "outputId": "3fb1193b-02da-472c-c3e7-46dae53a6bac"
   },
   "outputs": [],
   "source": [
    "spam = 'Hello'\n",
    "spam"
   ]
  },
  {
   "cell_type": "code",
   "execution_count": null,
   "metadata": {
    "id": "gYz0ipFkYhfE"
   },
   "outputs": [],
   "source": [
    "_spam = 'Hello'"
   ]
  },
  {
   "cell_type": "markdown",
   "metadata": {
    "id": "ssJNKbRiYhfF"
   },
   "source": [
    "## Comments\n",
    "Inline comment:"
   ]
  },
  {
   "cell_type": "code",
   "execution_count": null,
   "metadata": {
    "id": "DTxsKT8IYhfF"
   },
   "outputs": [],
   "source": [
    "# This is a comment"
   ]
  },
  {
   "cell_type": "markdown",
   "metadata": {
    "id": "wNuJIDZUYhfF"
   },
   "source": [
    "Multiline Comment"
   ]
  },
  {
   "cell_type": "code",
   "execution_count": null,
   "metadata": {
    "id": "TZn16S0DYhfF"
   },
   "outputs": [],
   "source": [
    "# This is a\n",
    "# multiline comment"
   ]
  },
  {
   "cell_type": "markdown",
   "metadata": {
    "id": "DnoERJnkYhfF"
   },
   "source": [
    "Code with a comment:"
   ]
  },
  {
   "cell_type": "code",
   "execution_count": null,
   "metadata": {
    "id": "vGjojAUaYhfG"
   },
   "outputs": [],
   "source": [
    "a = 1  # initialization"
   ]
  },
  {
   "cell_type": "code",
   "execution_count": null,
   "metadata": {
    "id": "GYrQopupYhfG"
   },
   "outputs": [],
   "source": [
    "def foo():\n",
    "    \"\"\"\n",
    "    This is a function docstring\n",
    "    You can also use:\n",
    "    ''' Function Docstring '''\n",
    "    \"\"\""
   ]
  },
  {
   "cell_type": "markdown",
   "metadata": {
    "id": "RSMxSqxtYhfG"
   },
   "source": [
    "#### args and kwargs\n",
    "The names args and kwargs are arbitrary - the important thing are the * and ** operators. They can mean:\n",
    "\n",
    "In a function declaration, * means “pack all remaining positional arguments into a tuple named <name>”, while ** is the same for keyword arguments (except it uses a dictionary, not a tuple).\n",
    "\n",
    "In a function call, * means “unpack tuple or list named <name> to positional arguments at this position”, while ** is the same for keyword arguments.\n",
    "\n",
    "For example you can make a function that you can use to call any other function, no matter what parameters it has:"
   ]
  },
  {
   "cell_type": "code",
   "execution_count": null,
   "metadata": {
    "id": "KGlxWw-OYhfG"
   },
   "outputs": [],
   "source": [
    "def forward(f, *args, **kwargs):\n",
    "    return f(*args, **kwargs)"
   ]
  },
  {
   "cell_type": "code",
   "execution_count": null,
   "metadata": {
    "id": "dtoZxksDYhfH",
    "outputId": "fc755bae-9177-498d-a25b-4a4748b5ab32"
   },
   "outputs": [],
   "source": [
    "def fruits(*args):\n",
    "    for fruit in args:\n",
    "        print(fruit)\n",
    "\n",
    "fruits(\"apples\", \"bananas\", \"grapes\")"
   ]
  },
  {
   "cell_type": "markdown",
   "metadata": {
    "id": "CgwMbVsQYhfH"
   },
   "source": [
    "#### Lambda Functions"
   ]
  },
  {
   "cell_type": "code",
   "execution_count": null,
   "metadata": {
    "id": "-XoDyC2UYhfH",
    "outputId": "2ebd62c4-076b-4fce-9e98-143ce1b77e79"
   },
   "outputs": [],
   "source": [
    "def add(x, y):\n",
    "    return x + y\n",
    "add(5, 3)"
   ]
  },
  {
   "cell_type": "code",
   "execution_count": null,
   "metadata": {
    "id": "PfnVkH9hYhfH",
    "outputId": "aed4d13b-5433-49d3-c8d3-4c0cfd2e80cb"
   },
   "outputs": [],
   "source": [
    "add = lambda x, y: x + y\n",
    "add(5, 3)"
   ]
  },
  {
   "cell_type": "code",
   "execution_count": null,
   "metadata": {
    "id": "AZGEYfROYhfH",
    "outputId": "c5ffeb75-a120-4dcf-b604-4058cce115f4"
   },
   "outputs": [],
   "source": [
    "(lambda x, y: x + y)(5, 3)"
   ]
  },
  {
   "cell_type": "markdown",
   "metadata": {
    "id": "xn6MiimIYhfI"
   },
   "source": [
    "## Finally the print function in Python"
   ]
  },
  {
   "cell_type": "code",
   "execution_count": null,
   "metadata": {
    "id": "5mcBS9l6YhfI",
    "outputId": "08073ee4-82c0-4fa7-f2f5-585445d4337e"
   },
   "outputs": [],
   "source": [
    " print('Hello world!')"
   ]
  },
  {
   "cell_type": "code",
   "execution_count": null,
   "metadata": {
    "id": "xGH_5Yb2YhfI",
    "outputId": "5fe3b8df-25a7-48c1-f1a8-b6737c0b0891"
   },
   "outputs": [],
   "source": [
    "a = 1\n",
    "print('Hello world!', a)"
   ]
  },
  {
   "cell_type": "markdown",
   "metadata": {
    "id": "oIzPfqmLYhfI"
   },
   "source": [
    "### input() Function"
   ]
  },
  {
   "cell_type": "code",
   "execution_count": null,
   "metadata": {
    "id": "__ZEdW5vYhfI",
    "outputId": "346f57d7-6639-4bed-a0ce-b3ca151ed5ad"
   },
   "outputs": [],
   "source": [
    "print('What is your name?')   # ask for their name\n",
    "myName = input()\n",
    "print('It is good to meet you, {}'.format(myName))"
   ]
  },
  {
   "cell_type": "markdown",
   "metadata": {
    "id": "9suuuPeDYhfI"
   },
   "source": [
    "### len() Function"
   ]
  },
  {
   "cell_type": "code",
   "execution_count": null,
   "metadata": {
    "id": "B30B-OVvYhfI",
    "outputId": "b25a37cf-abef-4bcf-87ad-e9934fb46a58"
   },
   "outputs": [],
   "source": [
    "len('hello')"
   ]
  },
  {
   "cell_type": "markdown",
   "metadata": {
    "id": "nOUXlfblYhfI"
   },
   "source": [
    "Note: test of emptiness of strings, lists, dictionary, etc, should not use len, but prefer direct boolean evaluation."
   ]
  },
  {
   "cell_type": "code",
   "execution_count": null,
   "metadata": {
    "id": "BQ4gnRnaYhfJ",
    "outputId": "dcf279f6-9441-404e-bc92-6c7118081977"
   },
   "outputs": [],
   "source": [
    "a = [1, 2, 3]\n",
    "if a:\n",
    "    print(\"the list is not empty!\")\n",
    "\n",
    "len(a)"
   ]
  },
  {
   "cell_type": "markdown",
   "metadata": {
    "id": "ncpMHNKeYhfJ"
   },
   "source": [
    "### The str(), int(), and float() Functions\n",
    "Integer to String or Float:"
   ]
  },
  {
   "cell_type": "code",
   "execution_count": null,
   "metadata": {
    "id": "BguxYVeJYhfJ",
    "outputId": "0c989cbc-24ff-4904-f621-097df174d604"
   },
   "outputs": [],
   "source": [
    "str(29)"
   ]
  },
  {
   "cell_type": "code",
   "execution_count": null,
   "metadata": {
    "id": "Dns2w8cfYhfJ",
    "outputId": "5ab552d9-965d-4d8a-8227-e51839c749a8"
   },
   "outputs": [],
   "source": [
    "print('I am {} years old.'.format(str(29)))"
   ]
  },
  {
   "cell_type": "code",
   "execution_count": null,
   "metadata": {
    "id": "gQNpKMBqYhfJ",
    "outputId": "34d4518f-308d-4c6d-bd02-180211cabd91"
   },
   "outputs": [],
   "source": [
    "str(-3.14)"
   ]
  },
  {
   "cell_type": "code",
   "execution_count": null,
   "metadata": {
    "id": "xJ7t8n13YhfJ",
    "outputId": "78104485-faf8-4b7e-b08f-25a951fe04a1"
   },
   "outputs": [],
   "source": [
    "int(7.7)"
   ]
  },
  {
   "cell_type": "code",
   "execution_count": null,
   "metadata": {
    "id": "eYzoyT_lYhfK",
    "outputId": "ce9960ee-fdbf-4c9b-c6d1-2d81d9478841"
   },
   "outputs": [],
   "source": [
    "int(7.7) + 1"
   ]
  },
  {
   "cell_type": "markdown",
   "metadata": {
    "id": "c5h9SNpIYhfK"
   },
   "source": [
    "## Flow Control\n",
    "Comparison Operators\n",
    "Operator\tMeaning\n",
    "    ==\tEqual to\n",
    "    !=\tNot equal to\n",
    "    <\tLess than\n",
    "    >\tGreater Than\n",
    "    <=\tLess than or Equal to\n",
    "    >=\tGreater than or Equal to\n",
    "These operators evaluate to True or False depending on the values you give them.\n",
    "\n",
    "Examples:"
   ]
  },
  {
   "cell_type": "code",
   "execution_count": null,
   "metadata": {
    "id": "wP6p8eAOYhfK",
    "outputId": "fcec0279-8a25-4d9a-8226-10974d00affa"
   },
   "outputs": [],
   "source": [
    "42 == 42"
   ]
  },
  {
   "cell_type": "code",
   "execution_count": null,
   "metadata": {
    "id": "MemMwdPvYhfK",
    "outputId": "d89b4e14-eefd-479a-b47a-5769fa911ddb"
   },
   "outputs": [],
   "source": [
    "40 == 42"
   ]
  },
  {
   "cell_type": "code",
   "execution_count": null,
   "metadata": {
    "id": "TADEyczjYhfK",
    "outputId": "77660b19-b551-4644-a8ce-99a5653443fd"
   },
   "outputs": [],
   "source": [
    "'hello' == 'hello'"
   ]
  },
  {
   "cell_type": "code",
   "execution_count": null,
   "metadata": {
    "id": "J0raD0X6YhfK",
    "outputId": "6b7dde26-2e20-47bc-c07e-f29aec1defdb"
   },
   "outputs": [],
   "source": [
    "'hello' == 'Hello'"
   ]
  },
  {
   "cell_type": "code",
   "execution_count": null,
   "metadata": {
    "id": "wtLo4rhiYhfL",
    "outputId": "6e62bccc-dad3-4074-f297-69c120066aa6"
   },
   "outputs": [],
   "source": [
    "'dog' != 'cat'"
   ]
  },
  {
   "cell_type": "code",
   "execution_count": null,
   "metadata": {
    "id": "3kHTS8HDYhfL",
    "outputId": "645cca8b-12f3-4d91-e0ac-5be95f86c60e"
   },
   "outputs": [],
   "source": [
    "42 == 42.0"
   ]
  },
  {
   "cell_type": "code",
   "execution_count": null,
   "metadata": {
    "id": "cykl71BEYhfL",
    "outputId": "dc0ffeba-b0de-4ce1-89f0-e1000fee4412"
   },
   "outputs": [],
   "source": [
    "42 == '42'"
   ]
  },
  {
   "cell_type": "markdown",
   "metadata": {
    "id": "rLC21I7kYhfL"
   },
   "source": [
    "### Boolean evaluation\n",
    "Never use == or != operator to evaluate boolean operation. Use the is or is not operators, or use implicit boolean evaluation.\n",
    "\n",
    "NO (even if they are valid Python):"
   ]
  },
  {
   "cell_type": "code",
   "execution_count": null,
   "metadata": {
    "id": "NmsiWPhSYhfL",
    "outputId": "be3b7a22-04ab-408f-a9e4-58beed73c968"
   },
   "outputs": [],
   "source": [
    "True == True"
   ]
  },
  {
   "cell_type": "code",
   "execution_count": null,
   "metadata": {
    "id": "KClcKsDtYhfL",
    "outputId": "d8090f8a-14c9-4650-eb0f-fe5acfa9829d"
   },
   "outputs": [],
   "source": [
    "True != False"
   ]
  },
  {
   "cell_type": "code",
   "execution_count": null,
   "metadata": {
    "id": "FYugOOFBYhfL",
    "outputId": "0863cb4c-9853-4939-a696-6b49751f43b9"
   },
   "outputs": [],
   "source": [
    "True is True"
   ]
  },
  {
   "cell_type": "code",
   "execution_count": null,
   "metadata": {
    "id": "FAzBCssYYhfM",
    "outputId": "57f3a403-aeb3-4a45-e06b-7f5f19590235"
   },
   "outputs": [],
   "source": [
    "True is not False"
   ]
  },
  {
   "cell_type": "code",
   "execution_count": null,
   "metadata": {
    "id": "Plo0tj5mYhfM"
   },
   "outputs": [],
   "source": [
    "# all are equivalent\n",
    "if a is True:\n",
    "    pass\n",
    "if a is not False:\n",
    "    pass\n",
    "if a:\n",
    "    pass\n"
   ]
  },
  {
   "cell_type": "code",
   "execution_count": null,
   "metadata": {
    "id": "YNCmEJuwYhfM"
   },
   "outputs": [],
   "source": [
    "# all are equivalent\n",
    "if a is False:\n",
    "    pass\n",
    "if a is not True:\n",
    "    pass\n",
    "if not a:\n",
    "    pass"
   ]
  },
  {
   "cell_type": "markdown",
   "metadata": {
    "id": "Sj3avt0oYhfM"
   },
   "source": [
    "### Boolean Operators\n",
    "There are three Boolean operators: and, or, and not.\n",
    "\n",
    "The and Operator’s Truth Table:\n",
    "\n",
    "Expression\tEvaluates to\n",
    "    \n",
    "    True and True\tTrue\n",
    "    True and False\tFalse\n",
    "    False and True\tFalse\n",
    "    False and False\tFalse\n",
    "The or Operator’s Truth Table:\n",
    "\n",
    "Expression\tEvaluates to\n",
    "\n",
    "    True or True\tTrue\n",
    "    True or False\tTrue\n",
    "    False or True\tTrue\n",
    "    False or False\tFalse\n",
    "The not Operator’s Truth Table:\n",
    "\n",
    "Expression\tEvaluates to\n",
    "\n",
    "    not True\tFalse\n",
    "    not False\tTrue"
   ]
  },
  {
   "cell_type": "code",
   "execution_count": null,
   "metadata": {
    "id": "l0ROPpGbYhfM",
    "outputId": "702be62d-17b1-4d13-c2fb-7b3c02057ab7"
   },
   "outputs": [],
   "source": [
    "(4 < 5) and (5 < 6)"
   ]
  },
  {
   "cell_type": "code",
   "execution_count": null,
   "metadata": {
    "id": "0IAma3-4YhfM",
    "outputId": "f124a178-448d-4ea7-ce7d-b35df3267586"
   },
   "outputs": [],
   "source": [
    "(4 < 5) and (9 < 6)"
   ]
  },
  {
   "cell_type": "code",
   "execution_count": null,
   "metadata": {
    "id": "T9gO4OFXYhfM",
    "outputId": "87b00a1d-40fd-4ce6-e70d-f063b9b1f971"
   },
   "outputs": [],
   "source": [
    "(1 == 2) or (2 == 2)"
   ]
  },
  {
   "cell_type": "code",
   "execution_count": null,
   "metadata": {
    "id": "gdFy7UztYhfM",
    "outputId": "d1e0d14d-908d-4ccf-ceb7-baa1b40ed926"
   },
   "outputs": [],
   "source": [
    "2 + 2 == 4 and not 2 + 2 == 5 and 2 * 2 == 2 + 2"
   ]
  },
  {
   "cell_type": "markdown",
   "metadata": {
    "id": "GihhjpVWYhfN"
   },
   "source": [
    "### if and else statement"
   ]
  },
  {
   "cell_type": "code",
   "execution_count": null,
   "metadata": {
    "id": "0Tg_aiLoYhfN",
    "outputId": "43c8b043-a0a8-4762-bd5c-651a884dfdfe"
   },
   "outputs": [],
   "source": [
    "name = 'Alice'\n",
    "if name == 'Alice':\n",
    "    print('Hi, Alice.')"
   ]
  },
  {
   "cell_type": "code",
   "execution_count": null,
   "metadata": {
    "id": "FnzaTXkVYhfN",
    "outputId": "b9c5fbfa-e64c-4346-def7-acad7ee9fc77"
   },
   "outputs": [],
   "source": [
    "name = 'Bob'\n",
    "if name == 'Alice':\n",
    "    print('Hi, Alice.')\n",
    "else:\n",
    "    print('Hello, stranger.')"
   ]
  },
  {
   "cell_type": "code",
   "execution_count": null,
   "metadata": {
    "id": "Ua7sd7q9YhfN",
    "outputId": "ffcd022b-010f-40b8-d486-ec434a0b92c9"
   },
   "outputs": [],
   "source": [
    "name = 'Bob'\n",
    "age = 30\n",
    "if name == 'Alice':\n",
    "    print('Hi, Alice.')\n",
    "elif age < 12:\n",
    "    print('You are not Alice, kiddo.')\n",
    "else:\n",
    "    print('You are neither Alice nor a little kid.')"
   ]
  },
  {
   "cell_type": "markdown",
   "metadata": {
    "id": "v8ZmdryqYhfN"
   },
   "source": [
    "### while, continue and break"
   ]
  },
  {
   "cell_type": "code",
   "execution_count": null,
   "metadata": {
    "id": "pAT8GohuYhfN",
    "outputId": "a3b846b0-d683-4f20-e80b-b308f697f6bd"
   },
   "outputs": [],
   "source": [
    "while True:\n",
    "    print('Please type your name.')\n",
    "    name = input()\n",
    "    if name == 'your name':\n",
    "        break\n",
    "print('Thank you!')"
   ]
  },
  {
   "cell_type": "code",
   "execution_count": null,
   "metadata": {
    "id": "4W5fx9rLYhfN",
    "outputId": "8875f436-569d-4d29-c704-9e0b12cf3f1e"
   },
   "outputs": [],
   "source": [
    "while True:\n",
    "    print('Who are you?')\n",
    "    name = input()\n",
    "    if name != 'Joe':\n",
    "        continue\n",
    "    print('Hello, Joe. What is the password? (It is a fish.)')\n",
    "    password = input()\n",
    "    if password == 'swordfish':\n",
    "        break\n",
    "print('Access granted.')\n"
   ]
  },
  {
   "cell_type": "markdown",
   "metadata": {
    "id": "R6gy4hq4YhfN"
   },
   "source": [
    "### for loops and the range() function"
   ]
  },
  {
   "cell_type": "code",
   "execution_count": null,
   "metadata": {
    "id": "jBakIvTfYhfO",
    "outputId": "f3c6aa9e-80d2-4677-8abc-7e107a748a91"
   },
   "outputs": [],
   "source": [
    "print('My name is')\n",
    "for i in range(5):\n",
    "    print('Jimmy Five Times ({})'.format(str(i)))"
   ]
  },
  {
   "cell_type": "code",
   "execution_count": null,
   "metadata": {
    "id": "nBWNaEBfYhfO",
    "outputId": "93bc7e1e-daf4-4d76-88f5-a5e249b1b5cd"
   },
   "outputs": [],
   "source": [
    "for i in range(0, 10, 2):\n",
    "    print(i)"
   ]
  },
  {
   "cell_type": "code",
   "execution_count": null,
   "metadata": {
    "id": "j6UcaniJYhfO",
    "outputId": "3ee48ab7-f252-48f1-83f5-393fc9e25597"
   },
   "outputs": [],
   "source": [
    "for i in range(5, -1, -1):\n",
    "    print(i)"
   ]
  },
  {
   "cell_type": "code",
   "execution_count": null,
   "metadata": {
    "id": "SalbkD6YYhfO",
    "outputId": "1a006ef0-d9f8-4cd1-fec1-97a9feb07d1b"
   },
   "outputs": [],
   "source": [
    "for i in [1, 2, 3, 4, 5]:\n",
    "    if i == 3:\n",
    "        break\n",
    "    else:\n",
    "        print(\"only executed when no item of the list is equal to 3\")"
   ]
  },
  {
   "cell_type": "markdown",
   "metadata": {
    "id": "Ni_2bUDzYhfO"
   },
   "source": [
    "### importing modules"
   ]
  },
  {
   "cell_type": "code",
   "execution_count": null,
   "metadata": {
    "id": "n8pNMPbzYhfO",
    "outputId": "b654dddd-89ef-4332-870f-5871d01a9d17"
   },
   "outputs": [],
   "source": [
    "import random\n",
    "for i in range(5):\n",
    "    print(random.randint(1, 10))"
   ]
  },
  {
   "cell_type": "code",
   "execution_count": null,
   "metadata": {
    "id": "YCE2PiD1YhfO"
   },
   "outputs": [],
   "source": [
    "import random, sys, os, math"
   ]
  },
  {
   "cell_type": "code",
   "execution_count": null,
   "metadata": {
    "id": "_8Q-DB_sYhfO"
   },
   "outputs": [],
   "source": [
    "from random import *"
   ]
  },
  {
   "cell_type": "code",
   "execution_count": null,
   "metadata": {
    "id": "qvngT6HiYhfO",
    "outputId": "947390dd-fe52-44ed-c491-7c5032a867e6"
   },
   "outputs": [],
   "source": [
    "#\n",
    "# Ending program with sys.exit\n",
    "#\n",
    "import sys\n",
    "\n",
    "while True:\n",
    "    print('Type exit to exit.')\n",
    "    response = input()\n",
    "    if response == 'exit':\n",
    "        sys.exit()\n",
    "    print('You typed {}.'.format(response))"
   ]
  },
  {
   "cell_type": "markdown",
   "metadata": {
    "id": "xPzH9-5KYhfP"
   },
   "source": [
    "## Functions"
   ]
  },
  {
   "cell_type": "code",
   "execution_count": null,
   "metadata": {
    "id": "y_pGYGvEYhfP",
    "outputId": "d92388cf-15bc-4c0e-8b83-48daea3c76bf"
   },
   "outputs": [],
   "source": [
    "def hello(name):\n",
    "    print('Hello {}'.format(name))\n",
    "\n",
    "hello('Alice')\n",
    "hello('Bob')"
   ]
  },
  {
   "cell_type": "markdown",
   "metadata": {
    "id": "OM7BaTrlYhfP"
   },
   "source": [
    "### Return Values and return Statements\n",
    "When creating a function using the def statement, you can specify what the return value should be with a return statement. A return statement consists of the following:\n",
    "\n",
    "The return keyword.\n",
    "\n",
    "The value or expression that the function should return."
   ]
  },
  {
   "cell_type": "code",
   "execution_count": null,
   "metadata": {
    "id": "zfvRjJEHYhfP",
    "outputId": "d3aac431-a853-46da-ac0b-97ea400d75e8"
   },
   "outputs": [],
   "source": [
    "import random\n",
    "def getAnswer(answerNumber):\n",
    "    if answerNumber == 1:\n",
    "        return 'It is certain'\n",
    "    elif answerNumber == 2:\n",
    "        return 'It is decidedly so'\n",
    "    elif answerNumber == 3:\n",
    "        return 'Yes'\n",
    "    elif answerNumber == 4:\n",
    "        return 'Reply hazy try again'\n",
    "    elif answerNumber == 5:\n",
    "        return 'Ask again later'\n",
    "    elif answerNumber == 6:\n",
    "        return 'Concentrate and ask again'\n",
    "    elif answerNumber == 7:\n",
    "        return 'My reply is no'\n",
    "    elif answerNumber == 8:\n",
    "        return 'Outlook not so good'\n",
    "    elif answerNumber == 9:\n",
    "        return 'Very doubtful'\n",
    "\n",
    "r = random.randint(1, 9)\n",
    "fortune = getAnswer(r)\n",
    "print(fortune)"
   ]
  },
  {
   "cell_type": "markdown",
   "metadata": {
    "id": "s6q3bCDwYhfP"
   },
   "source": [
    "### Keyword Arguments and print()"
   ]
  },
  {
   "cell_type": "code",
   "execution_count": null,
   "metadata": {
    "id": "O-xTC3vVYhfP",
    "outputId": "eb0b28e8-47fc-4993-bf0f-563d1f5ed7b2"
   },
   "outputs": [],
   "source": [
    "print('Hello', end='')\n",
    "print('World')"
   ]
  },
  {
   "cell_type": "code",
   "execution_count": null,
   "metadata": {
    "id": "JQz7INeNYhfP",
    "outputId": "b184f239-cbdf-4f2e-bf28-2cb072af59a4"
   },
   "outputs": [],
   "source": [
    "print('cats', 'dogs', 'mice')"
   ]
  },
  {
   "cell_type": "code",
   "execution_count": null,
   "metadata": {
    "id": "flrpkyfWYhfP",
    "outputId": "df28bb81-0d2f-47a5-ca4f-e8cc4e036ecd"
   },
   "outputs": [],
   "source": [
    " print('cats', 'dogs', 'mice', sep=',')"
   ]
  },
  {
   "cell_type": "markdown",
   "metadata": {
    "id": "UPfWPc51YhfQ"
   },
   "source": [
    "### Local and Global Scope\n",
    "Code in the global scope cannot use any local variables.\n",
    "\n",
    "However, a local scope can access global variables.\n",
    "\n",
    "Code in a function’s local scope cannot use variables in any other local scope.\n",
    "\n",
    "You can use the same name for different variables if they are in different scopes. That is, there can be a local variable named spam and a global variable also named spam."
   ]
  },
  {
   "cell_type": "code",
   "execution_count": null,
   "metadata": {
    "id": "lD5BB6yFYhfQ",
    "outputId": "97226ed4-2069-4313-9006-a99bd8042a33"
   },
   "outputs": [],
   "source": [
    "def spam():\n",
    "    global eggs\n",
    "    eggs = 'spam'\n",
    "    \n",
    "eggs = 'global'\n",
    "spam()\n",
    "print(eggs)"
   ]
  },
  {
   "cell_type": "markdown",
   "metadata": {
    "id": "nuZ9LEFlYhfQ"
   },
   "source": [
    "There are four rules to tell whether a variable is in a local scope or global scope:\n",
    "\n",
    "1)If a variable is being used in the global scope (that is, outside of all functions), then it is always a global variable.\n",
    "\n",
    "2)If there is a global statement for that variable in a function, it is a global variable.\n",
    "\n",
    "3)Otherwise, if the variable is used in an assignment statement in the function, it is a local variable.\n",
    "\n",
    "4)But if the variable is not used in an assignment statement, it is a global variable."
   ]
  },
  {
   "cell_type": "markdown",
   "metadata": {
    "id": "Cu8rZPmpYhfQ"
   },
   "source": [
    "### Exception Handling"
   ]
  },
  {
   "cell_type": "code",
   "execution_count": 15,
   "metadata": {
    "id": "Em_61E-_YhfQ",
    "outputId": "ef3f1989-9ffc-438c-c0cd-41c07807162b"
   },
   "outputs": [
    {
     "name": "stdout",
     "output_type": "stream",
     "text": [
      "21.0\n",
      "3.5\n",
      "Error: Invalid argument: division by zero\n",
      "None\n",
      "42.0\n"
     ]
    }
   ],
   "source": [
    "def spam(divideBy):\n",
    "    try:\n",
    "        return 42 / divideBy\n",
    "    except ZeroDivisionError as e:\n",
    "        print('Error: Invalid argument: {}'.format(e))\n",
    "\n",
    "def spam1(num):\n",
    "    return 24/num\n",
    "        \n",
    "print(spam(2))\n",
    "print(spam(12))\n",
    "print(spam(0))\n",
    "print(spam(1))"
   ]
  },
  {
   "cell_type": "markdown",
   "metadata": {
    "id": "JKGPhfRFYhfQ"
   },
   "source": [
    "### Final code in exception handling\n",
    "Code inside the finally section is always executed, no matter if an exception has been raised or not, and even if an exception is not caught."
   ]
  },
  {
   "cell_type": "code",
   "execution_count": 21,
   "metadata": {
    "id": "U5Ip0c-GYhfQ",
    "outputId": "c8f034cb-8872-4625-e2aa-7b99c2c2a56b"
   },
   "outputs": [
    {
     "name": "stdout",
     "output_type": "stream",
     "text": [
      "-- division finished --\n",
      "21.0\n",
      "-- division finished --\n",
      "3.5\n",
      "Error: Invalid argument: division by zero\n",
      "-- division finished --\n",
      "None\n",
      "-- division finished --\n",
      "42.0\n"
     ]
    }
   ],
   "source": [
    "def spam(divideBy):\n",
    "    try:\n",
    "        return 42 / divideBy\n",
    "    except ZeroDivisionError as e:\n",
    "        print('Error: Invalid argument: {}'.format(e))\n",
    "    finally:\n",
    "        print(\"-- division finished --\")\n",
    "    \n",
    "print(spam(2))\n",
    "print(spam(12))\n",
    "print(spam(0))\n",
    "print(spam(1))"
   ]
  },
  {
   "cell_type": "markdown",
   "metadata": {
    "id": "tg9JscoXYhfQ"
   },
   "source": [
    "### Lists"
   ]
  },
  {
   "cell_type": "code",
   "execution_count": 16,
   "metadata": {
    "id": "coYppPivYhfR",
    "outputId": "a3a85435-bdcc-4dac-af8f-9653d4b4f6a5"
   },
   "outputs": [
    {
     "data": {
      "text/plain": [
       "['cat', 'bat', 'rat', 'elephant']"
      ]
     },
     "execution_count": 16,
     "metadata": {},
     "output_type": "execute_result"
    }
   ],
   "source": [
    "spam = ['cat', 'bat', 'rat', 'elephant']\n",
    "spam\n"
   ]
  },
  {
   "cell_type": "code",
   "execution_count": 4,
   "metadata": {
    "id": "P0Z_r4HyYhfR",
    "outputId": "fac7bad8-482d-44b4-f143-a5ef2476bdaf"
   },
   "outputs": [
    {
     "data": {
      "text/plain": [
       "list"
      ]
     },
     "execution_count": 4,
     "metadata": {},
     "output_type": "execute_result"
    }
   ],
   "source": [
    "type(spam)"
   ]
  },
  {
   "cell_type": "code",
   "execution_count": 5,
   "metadata": {
    "id": "YxozMgi-YhfR",
    "outputId": "9820bb6b-1294-4507-94ac-b9d0eb15073d"
   },
   "outputs": [
    {
     "data": {
      "text/plain": [
       "'cat'"
      ]
     },
     "execution_count": 5,
     "metadata": {},
     "output_type": "execute_result"
    }
   ],
   "source": [
    "spam[0]"
   ]
  },
  {
   "cell_type": "code",
   "execution_count": 6,
   "metadata": {
    "id": "_JTsUfpYYhfR",
    "outputId": "b2431220-a02a-4196-cf70-c512bce15e6e"
   },
   "outputs": [
    {
     "data": {
      "text/plain": [
       "'bat'"
      ]
     },
     "execution_count": 6,
     "metadata": {},
     "output_type": "execute_result"
    }
   ],
   "source": [
    "spam[1]"
   ]
  },
  {
   "cell_type": "code",
   "execution_count": 7,
   "metadata": {
    "id": "J9tNkP0iYhfR",
    "outputId": "7f6653a1-a85d-465a-f32d-6005f9e7ebb3"
   },
   "outputs": [
    {
     "data": {
      "text/plain": [
       "'elephant'"
      ]
     },
     "execution_count": 7,
     "metadata": {},
     "output_type": "execute_result"
    }
   ],
   "source": [
    "spam[-1]"
   ]
  },
  {
   "cell_type": "code",
   "execution_count": 8,
   "metadata": {
    "id": "VyiPyJHCYhfR",
    "outputId": "8a13426e-9c67-4f73-f622-b62301894f21"
   },
   "outputs": [
    {
     "data": {
      "text/plain": [
       "'bat'"
      ]
     },
     "execution_count": 8,
     "metadata": {},
     "output_type": "execute_result"
    }
   ],
   "source": [
    "spam[-3]"
   ]
  },
  {
   "cell_type": "code",
   "execution_count": 9,
   "metadata": {
    "id": "dGP8ng4AYhfR",
    "outputId": "1c6079b5-7a3f-4c7f-eaa4-f1c838c4af86"
   },
   "outputs": [
    {
     "data": {
      "text/plain": [
       "'The elephant is afraid of the bat.'"
      ]
     },
     "execution_count": 9,
     "metadata": {},
     "output_type": "execute_result"
    }
   ],
   "source": [
    "'The {} is afraid of the {}.'.format(spam[-1], spam[-3])"
   ]
  },
  {
   "cell_type": "code",
   "execution_count": 10,
   "metadata": {
    "id": "Ep_RCr4pYhfR",
    "outputId": "b8a61f97-0ba6-4183-9dcb-5e12a20ba0b8"
   },
   "outputs": [
    {
     "data": {
      "text/plain": [
       "['bat', 'rat']"
      ]
     },
     "execution_count": 10,
     "metadata": {},
     "output_type": "execute_result"
    }
   ],
   "source": [
    "# Slicing\n",
    "spam[1:3]"
   ]
  },
  {
   "cell_type": "code",
   "execution_count": 11,
   "metadata": {
    "id": "AClAWIy9YhfS",
    "outputId": "e6fdf89d-3867-4b94-dedb-b467b509826f"
   },
   "outputs": [
    {
     "data": {
      "text/plain": [
       "['cat', 'bat', 'rat']"
      ]
     },
     "execution_count": 11,
     "metadata": {},
     "output_type": "execute_result"
    }
   ],
   "source": [
    "spam[0:-1]"
   ]
  },
  {
   "cell_type": "code",
   "execution_count": 12,
   "metadata": {
    "id": "CQyZxdTiYhfS",
    "outputId": "fac7e298-d690-4c27-fecd-bedb6da5b1c1"
   },
   "outputs": [
    {
     "data": {
      "text/plain": [
       "['cat', 'bat']"
      ]
     },
     "execution_count": 12,
     "metadata": {},
     "output_type": "execute_result"
    }
   ],
   "source": [
    "spam[:2]"
   ]
  },
  {
   "cell_type": "code",
   "execution_count": 13,
   "metadata": {
    "id": "UplnYkEIYhfS",
    "outputId": "ef64e538-040d-415e-ba65-ea75eb37f4b4"
   },
   "outputs": [
    {
     "data": {
      "text/plain": [
       "['bat', 'rat', 'elephant']"
      ]
     },
     "execution_count": 13,
     "metadata": {},
     "output_type": "execute_result"
    }
   ],
   "source": [
    "spam[1:]"
   ]
  },
  {
   "cell_type": "code",
   "execution_count": 17,
   "metadata": {
    "id": "90R7HodcYhfS",
    "outputId": "3595d92e-2076-4760-f159-d2950646dfad"
   },
   "outputs": [
    {
     "name": "stdout",
     "output_type": "stream",
     "text": [
      "['cat', 'bat', 'rat', 'elephant', 'dog']\n",
      "['cat', 'bat', 'rat', 'elephant']\n"
     ]
    }
   ],
   "source": [
    "spam2 = spam[:]\n",
    "spam.append('dog')\n",
    "print(spam)\n",
    "print(spam2)\n"
   ]
  },
  {
   "cell_type": "code",
   "execution_count": 21,
   "metadata": {
    "id": "MVCLtPBCYhfS",
    "outputId": "fa8b0e54-79a0-41e7-ba8a-7c0641e83253"
   },
   "outputs": [
    {
     "name": "stdout",
     "output_type": "stream",
     "text": [
      "['cat', 'dog', 'moose']\n",
      "['elephant', 'dog']\n",
      "['cat', 'dog', 'moose', 'elephant', 'dog']\n",
      "['cat', 'dog', 'moose', 'elephant', 'dog', ['elephant', 'dog']]\n",
      "['elephant', 'dog']\n",
      "elephant\n"
     ]
    }
   ],
   "source": [
    "spam = ['cat', 'dog', 'moose']\n",
    "print(spam)\n",
    "\n",
    "spam2 = ['elephant', 'dog']\n",
    "print(spam2)\n",
    "\n",
    "spam.extend(spam2)\n",
    "print(spam)\n",
    "spam.append(spam2)\n",
    "print(spam)\n",
    "\n",
    "print(spam[5])\n",
    "print(spam[5][0])"
   ]
  },
  {
   "cell_type": "markdown",
   "metadata": {
    "id": "eq7eX4FZYhfS"
   },
   "source": [
    "#### List Methods"
   ]
  },
  {
   "cell_type": "code",
   "execution_count": 19,
   "metadata": {
    "id": "gFEZgOzWYhfS",
    "outputId": "8cfbb070-5411-4f17-c3a8-b423d38c6349"
   },
   "outputs": [
    {
     "name": "stdout",
     "output_type": "stream",
     "text": [
      "Help on class list in module builtins:\n",
      "\n",
      "class list(object)\n",
      " |  list(iterable=(), /)\n",
      " |  \n",
      " |  Built-in mutable sequence.\n",
      " |  \n",
      " |  If no argument is given, the constructor creates a new empty list.\n",
      " |  The argument must be an iterable if specified.\n",
      " |  \n",
      " |  Methods defined here:\n",
      " |  \n",
      " |  __add__(self, value, /)\n",
      " |      Return self+value.\n",
      " |  \n",
      " |  __contains__(self, key, /)\n",
      " |      Return key in self.\n",
      " |  \n",
      " |  __delitem__(self, key, /)\n",
      " |      Delete self[key].\n",
      " |  \n",
      " |  __eq__(self, value, /)\n",
      " |      Return self==value.\n",
      " |  \n",
      " |  __ge__(self, value, /)\n",
      " |      Return self>=value.\n",
      " |  \n",
      " |  __getattribute__(self, name, /)\n",
      " |      Return getattr(self, name).\n",
      " |  \n",
      " |  __getitem__(...)\n",
      " |      x.__getitem__(y) <==> x[y]\n",
      " |  \n",
      " |  __gt__(self, value, /)\n",
      " |      Return self>value.\n",
      " |  \n",
      " |  __iadd__(self, value, /)\n",
      " |      Implement self+=value.\n",
      " |  \n",
      " |  __imul__(self, value, /)\n",
      " |      Implement self*=value.\n",
      " |  \n",
      " |  __init__(self, /, *args, **kwargs)\n",
      " |      Initialize self.  See help(type(self)) for accurate signature.\n",
      " |  \n",
      " |  __iter__(self, /)\n",
      " |      Implement iter(self).\n",
      " |  \n",
      " |  __le__(self, value, /)\n",
      " |      Return self<=value.\n",
      " |  \n",
      " |  __len__(self, /)\n",
      " |      Return len(self).\n",
      " |  \n",
      " |  __lt__(self, value, /)\n",
      " |      Return self<value.\n",
      " |  \n",
      " |  __mul__(self, value, /)\n",
      " |      Return self*value.\n",
      " |  \n",
      " |  __ne__(self, value, /)\n",
      " |      Return self!=value.\n",
      " |  \n",
      " |  __repr__(self, /)\n",
      " |      Return repr(self).\n",
      " |  \n",
      " |  __reversed__(self, /)\n",
      " |      Return a reverse iterator over the list.\n",
      " |  \n",
      " |  __rmul__(self, value, /)\n",
      " |      Return value*self.\n",
      " |  \n",
      " |  __setitem__(self, key, value, /)\n",
      " |      Set self[key] to value.\n",
      " |  \n",
      " |  __sizeof__(self, /)\n",
      " |      Return the size of the list in memory, in bytes.\n",
      " |  \n",
      " |  append(self, object, /)\n",
      " |      Append object to the end of the list.\n",
      " |  \n",
      " |  clear(self, /)\n",
      " |      Remove all items from list.\n",
      " |  \n",
      " |  copy(self, /)\n",
      " |      Return a shallow copy of the list.\n",
      " |  \n",
      " |  count(self, value, /)\n",
      " |      Return number of occurrences of value.\n",
      " |  \n",
      " |  extend(self, iterable, /)\n",
      " |      Extend list by appending elements from the iterable.\n",
      " |  \n",
      " |  index(self, value, start=0, stop=9223372036854775807, /)\n",
      " |      Return first index of value.\n",
      " |      \n",
      " |      Raises ValueError if the value is not present.\n",
      " |  \n",
      " |  insert(self, index, object, /)\n",
      " |      Insert object before index.\n",
      " |  \n",
      " |  pop(self, index=-1, /)\n",
      " |      Remove and return item at index (default last).\n",
      " |      \n",
      " |      Raises IndexError if list is empty or index is out of range.\n",
      " |  \n",
      " |  remove(self, value, /)\n",
      " |      Remove first occurrence of value.\n",
      " |      \n",
      " |      Raises ValueError if the value is not present.\n",
      " |  \n",
      " |  reverse(self, /)\n",
      " |      Reverse *IN PLACE*.\n",
      " |  \n",
      " |  sort(self, /, *, key=None, reverse=False)\n",
      " |      Sort the list in ascending order and return None.\n",
      " |      \n",
      " |      The sort is in-place (i.e. the list itself is modified) and stable (i.e. the\n",
      " |      order of two equal elements is maintained).\n",
      " |      \n",
      " |      If a key function is given, apply it once to each list item and sort them,\n",
      " |      ascending or descending, according to their function values.\n",
      " |      \n",
      " |      The reverse flag can be set to sort in descending order.\n",
      " |  \n",
      " |  ----------------------------------------------------------------------\n",
      " |  Class methods defined here:\n",
      " |  \n",
      " |  __class_getitem__(...) from builtins.type\n",
      " |      See PEP 585\n",
      " |  \n",
      " |  ----------------------------------------------------------------------\n",
      " |  Static methods defined here:\n",
      " |  \n",
      " |  __new__(*args, **kwargs) from builtins.type\n",
      " |      Create and return a new object.  See help(type) for accurate signature.\n",
      " |  \n",
      " |  ----------------------------------------------------------------------\n",
      " |  Data and other attributes defined here:\n",
      " |  \n",
      " |  __hash__ = None\n",
      "\n"
     ]
    }
   ],
   "source": [
    "help(list)"
   ]
  },
  {
   "cell_type": "code",
   "execution_count": 22,
   "metadata": {
    "id": "hlzyKAJYYhfS",
    "outputId": "29123724-4889-4ebb-8288-9ee0e19724fc"
   },
   "outputs": [
    {
     "data": {
      "text/plain": [
       "['BENZ', 'BMW', 'MARUTHI', 'TATA']"
      ]
     },
     "execution_count": 22,
     "metadata": {},
     "output_type": "execute_result"
    }
   ],
   "source": [
    "cars=[\"TATA\", \"MARUTHI\", \"BMW\", \"BENZ\"]\n",
    "sorted(cars)"
   ]
  },
  {
   "cell_type": "code",
   "execution_count": 23,
   "metadata": {
    "id": "O4CLtoQSYhfT",
    "outputId": "04b27584-affa-45f1-b2a2-24fee7755464"
   },
   "outputs": [
    {
     "data": {
      "text/plain": [
       "['TATA', 'MARUTHI', 'BMW', 'BENZ']"
      ]
     },
     "execution_count": 23,
     "metadata": {},
     "output_type": "execute_result"
    }
   ],
   "source": [
    "cars"
   ]
  },
  {
   "cell_type": "code",
   "execution_count": 24,
   "metadata": {
    "id": "Aas4QSRsYhfT",
    "outputId": "b6123546-d7cc-40af-c885-6bcbb2e8621a"
   },
   "outputs": [
    {
     "data": {
      "text/plain": [
       "['BENZ', 'BMW', 'MARUTHI', 'TATA']"
      ]
     },
     "execution_count": 24,
     "metadata": {},
     "output_type": "execute_result"
    }
   ],
   "source": [
    "cars.sort()\n",
    "cars"
   ]
  },
  {
   "cell_type": "markdown",
   "metadata": {
    "id": "BeXbq5Q6YhfT"
   },
   "source": [
    "### Modifying lists"
   ]
  },
  {
   "cell_type": "code",
   "execution_count": 25,
   "metadata": {
    "id": "DK-Pk0qJYhfT",
    "outputId": "1ec1ed0c-7ca4-412a-9b22-94df296cd027"
   },
   "outputs": [
    {
     "data": {
      "text/plain": [
       "['cat', 'aardvark', 'rat', 'elephant']"
      ]
     },
     "execution_count": 25,
     "metadata": {},
     "output_type": "execute_result"
    }
   ],
   "source": [
    "spam = ['cat', 'bat', 'rat', 'elephant']\n",
    "spam[1] = 'aardvark'\n",
    "spam"
   ]
  },
  {
   "cell_type": "code",
   "execution_count": 26,
   "metadata": {
    "id": "X_qtya5eYhfT",
    "outputId": "c5d3229f-a655-461a-8ffd-a67a572168cc"
   },
   "outputs": [
    {
     "data": {
      "text/plain": [
       "['cat', 'aardvark', 'aardvark', 'elephant']"
      ]
     },
     "execution_count": 26,
     "metadata": {},
     "output_type": "execute_result"
    }
   ],
   "source": [
    "spam[2] = spam[1]\n",
    "spam"
   ]
  },
  {
   "cell_type": "code",
   "execution_count": 27,
   "metadata": {
    "id": "8gZPHS5fYhfT",
    "outputId": "72cb1608-fe87-4d5e-bb37-3a72e104c656"
   },
   "outputs": [
    {
     "data": {
      "text/plain": [
       "['cat', 'aardvark', 'aardvark', 12345]"
      ]
     },
     "execution_count": 27,
     "metadata": {},
     "output_type": "execute_result"
    }
   ],
   "source": [
    "spam[-1] = 12345\n",
    "spam"
   ]
  },
  {
   "cell_type": "code",
   "execution_count": 65,
   "metadata": {
    "id": "ME3oe8WGYhfT",
    "outputId": "5cdd2857-04a7-4f8b-ab18-0081791c52b6"
   },
   "outputs": [
    {
     "data": {
      "text/plain": [
       "[1, 2, 3, 1, 2, 3]"
      ]
     },
     "execution_count": 65,
     "metadata": {},
     "output_type": "execute_result"
    }
   ],
   "source": [
    "[1, 2, 3] + ['A', 'B', 'C']"
   ]
  },
  {
   "cell_type": "code",
   "execution_count": 70,
   "metadata": {
    "id": "8kOsC6TrYhfT",
    "outputId": "c9d37e0c-088f-4fa6-e535-a21d148dd812"
   },
   "outputs": [
    {
     "data": {
      "text/plain": [
       "['X', 'Y', 'Z', 'X', 'Y', 'Z', 'X', 'Y', 'Z']"
      ]
     },
     "execution_count": 70,
     "metadata": {},
     "output_type": "execute_result"
    }
   ],
   "source": [
    "['X', 'Y', 'Z'] * 3"
   ]
  },
  {
   "cell_type": "code",
   "execution_count": 30,
   "metadata": {
    "id": "q8SnKNDwYhfU",
    "outputId": "6c60dce3-bbc0-4eb9-8951-aae0f624182b"
   },
   "outputs": [
    {
     "data": {
      "text/plain": [
       "[1, 2, 3, 'A', 'B', 'C']"
      ]
     },
     "execution_count": 30,
     "metadata": {},
     "output_type": "execute_result"
    }
   ],
   "source": [
    "spam = [1, 2, 3]\n",
    "spam = spam + ['A', 'B', 'C']\n",
    "spam"
   ]
  },
  {
   "cell_type": "code",
   "execution_count": 31,
   "metadata": {
    "id": "zBrjex-5YhfU",
    "outputId": "3347194c-c79a-470a-f2dd-99e736c00e16"
   },
   "outputs": [
    {
     "data": {
      "text/plain": [
       "['cat', 'bat', 'elephant']"
      ]
     },
     "execution_count": 31,
     "metadata": {},
     "output_type": "execute_result"
    }
   ],
   "source": [
    "spam = ['cat', 'bat', 'rat', 'elephant']\n",
    "del spam[2]\n",
    "spam"
   ]
  },
  {
   "cell_type": "code",
   "execution_count": 32,
   "metadata": {
    "id": "LzDNjSN7YhfU",
    "outputId": "8aecdf17-681e-4958-88f1-23c912ae16c2"
   },
   "outputs": [
    {
     "data": {
      "text/plain": [
       "['cat', 'bat']"
      ]
     },
     "execution_count": 32,
     "metadata": {},
     "output_type": "execute_result"
    }
   ],
   "source": [
    "del spam[2]\n",
    "spam"
   ]
  },
  {
   "cell_type": "code",
   "execution_count": 62,
   "metadata": {
    "id": "BclryiKZYhfU",
    "outputId": "7dd59e8f-42d9-48ba-9301-5ca1deabd9d2"
   },
   "outputs": [
    {
     "name": "stdout",
     "output_type": "stream",
     "text": [
      "Index 0 in supplies is: pens\n",
      "Index 1 in supplies is: staplers\n",
      "Index 2 in supplies is: flame-throwers\n",
      "Index 3 in supplies is: binders\n"
     ]
    }
   ],
   "source": [
    "supplies = ['pens', 'staplers', 'flame-throwers', 'binders']\n",
    "for i, supply in enumerate(supplies):\n",
    "    print('Index {} in supplies is: {}'.format(str(i), supply))"
   ]
  },
  {
   "cell_type": "markdown",
   "metadata": {
    "id": "sItdB90eYhfU"
   },
   "source": [
    "### Looping through multiple lists using zip()"
   ]
  },
  {
   "cell_type": "code",
   "execution_count": 71,
   "metadata": {
    "id": "HXyEoVleYhfU",
    "outputId": "e100ea94-bc5b-4dd3-b925-c4f18207dbc7"
   },
   "outputs": [
    {
     "name": "stdout",
     "output_type": "stream",
     "text": [
      "Pete is 6 years old\n",
      "John is 23 years old\n",
      "Elizabeth is 44 years old\n"
     ]
    }
   ],
   "source": [
    "name = ['Pete', 'John', 'Elizabeth']\n",
    "age = [6, 23, 44]\n",
    "for n, a in zip(name, age):\n",
    "    print('{} is {} years old'.format(n, a))"
   ]
  },
  {
   "cell_type": "code",
   "execution_count": 33,
   "metadata": {
    "id": "lKqq3aGsYhfU",
    "outputId": "9f2572a8-1d4e-4dfa-887b-9735ae3b88ab"
   },
   "outputs": [
    {
     "data": {
      "text/plain": [
       "True"
      ]
     },
     "execution_count": 33,
     "metadata": {},
     "output_type": "execute_result"
    }
   ],
   "source": [
    "'howdy' in ['hello', 'hi', 'howdy', 'heyas']"
   ]
  },
  {
   "cell_type": "code",
   "execution_count": 34,
   "metadata": {
    "id": "JrK0-EoMYhfV",
    "outputId": "e0c13776-0282-4d52-fd23-8b98377ee214"
   },
   "outputs": [
    {
     "data": {
      "text/plain": [
       "False"
      ]
     },
     "execution_count": 34,
     "metadata": {},
     "output_type": "execute_result"
    }
   ],
   "source": [
    "spam = ['hello', 'hi', 'howdy', 'heyas']\n",
    "'cat' in spam"
   ]
  },
  {
   "cell_type": "code",
   "execution_count": 35,
   "metadata": {
    "id": "fkFdFo3rYhfV",
    "outputId": "8d2c21bc-72aa-4b4a-e087-0f7423a6c0e8"
   },
   "outputs": [
    {
     "data": {
      "text/plain": [
       "True"
      ]
     },
     "execution_count": 35,
     "metadata": {},
     "output_type": "execute_result"
    }
   ],
   "source": [
    "'cat' not in spam"
   ]
  },
  {
   "cell_type": "markdown",
   "metadata": {
    "id": "N2POYfB7YhfV"
   },
   "source": [
    "#### The Multiple Assignment Trick\n",
    "The multiple assignment trick is a shortcut that lets you assign multiple variables with the values in a list in one line of code. So instead of doing this:"
   ]
  },
  {
   "cell_type": "code",
   "execution_count": 36,
   "metadata": {
    "id": "IyDCFeF2YhfV"
   },
   "outputs": [],
   "source": [
    "cat = ['fat', 'orange', 'loud']\n",
    "size = cat[0]\n",
    "color = cat[1]\n",
    "disposition = cat[2]\n",
    "\n",
    "size, color, disposition = cat"
   ]
  },
  {
   "cell_type": "code",
   "execution_count": 37,
   "metadata": {
    "id": "NghfwExKYhfV",
    "outputId": "52f6ec4a-d79d-49d3-ddd3-a680c95113ff"
   },
   "outputs": [
    {
     "name": "stdout",
     "output_type": "stream",
     "text": [
      "Bob\n"
     ]
    }
   ],
   "source": [
    "a, b = 'Alice', 'Bob'\n",
    "a, b = b, a\n",
    "print(a)"
   ]
  },
  {
   "cell_type": "code",
   "execution_count": 38,
   "metadata": {
    "id": "rMJfIC8SYhfV",
    "outputId": "711633d8-fdfb-4235-8ebf-fd4eb3851da0"
   },
   "outputs": [
    {
     "name": "stdout",
     "output_type": "stream",
     "text": [
      "Alice\n"
     ]
    }
   ],
   "source": [
    "print(b)"
   ]
  },
  {
   "cell_type": "markdown",
   "metadata": {
    "id": "toppwMCyYhfV"
   },
   "source": [
    "#### Augmented Assignment Operators\n",
    "Operator\tEquivalent\n",
    "\n",
    "spam += 1\tspam = spam + 1\n",
    "\n",
    "spam -= 1\tspam = spam - 1\n",
    "\n",
    "spam *= 1\tspam = spam * 1\n",
    "\n",
    "spam /= 1\tspam = spam / 1\n",
    "\n",
    "spam %= 1\tspam = spam % 1\n",
    "\n",
    "Examples:"
   ]
  },
  {
   "cell_type": "code",
   "execution_count": 39,
   "metadata": {
    "id": "owTVtYrlYhfV",
    "outputId": "43a765bd-b9c9-4ac0-bff5-ea3b3d062cad"
   },
   "outputs": [
    {
     "data": {
      "text/plain": [
       "'Hello world!'"
      ]
     },
     "execution_count": 39,
     "metadata": {},
     "output_type": "execute_result"
    }
   ],
   "source": [
    "spam = 'Hello'\n",
    "spam += ' world!'\n",
    "spam"
   ]
  },
  {
   "cell_type": "code",
   "execution_count": 40,
   "metadata": {
    "id": "HwfFQE7XYhfV",
    "outputId": "0d1aebb0-163a-4482-a627-e1e20e2f112d"
   },
   "outputs": [
    {
     "data": {
      "text/plain": [
       "['Zophie', 'Zophie', 'Zophie']"
      ]
     },
     "execution_count": 40,
     "metadata": {},
     "output_type": "execute_result"
    }
   ],
   "source": [
    "bacon = ['Zophie']\n",
    "bacon *= 3\n",
    "bacon"
   ]
  },
  {
   "cell_type": "code",
   "execution_count": 41,
   "metadata": {
    "id": "bLVm16oWYhfW",
    "outputId": "8f8ad04e-57f3-4746-f02e-dab89e407a75"
   },
   "outputs": [
    {
     "data": {
      "text/plain": [
       "1"
      ]
     },
     "execution_count": 41,
     "metadata": {},
     "output_type": "execute_result"
    }
   ],
   "source": [
    "spam = ['Zophie', 'Pooka', 'Fat-tail', 'Pooka']\n",
    "spam.index('Pooka')"
   ]
  },
  {
   "cell_type": "code",
   "execution_count": 42,
   "metadata": {
    "id": "3eNyJpqeYhfW",
    "outputId": "cff20e17-c4f2-4ef7-a80c-cfd71aa471ff"
   },
   "outputs": [
    {
     "data": {
      "text/plain": [
       "['cat', 'dog', 'bat', 'moose']"
      ]
     },
     "execution_count": 42,
     "metadata": {},
     "output_type": "execute_result"
    }
   ],
   "source": [
    "spam = ['cat', 'dog', 'bat']\n",
    "spam.append('moose')\n",
    "spam"
   ]
  },
  {
   "cell_type": "markdown",
   "metadata": {
    "id": "0_vivXO-YhfW"
   },
   "source": [
    "#### insert() and remove()"
   ]
  },
  {
   "cell_type": "code",
   "execution_count": 43,
   "metadata": {
    "id": "3pviWagvYhfW",
    "outputId": "95b791b2-5aa2-40fb-f5e5-08a2c9ff359b"
   },
   "outputs": [
    {
     "data": {
      "text/plain": [
       "['cat', 'chicken', 'dog', 'bat']"
      ]
     },
     "execution_count": 43,
     "metadata": {},
     "output_type": "execute_result"
    }
   ],
   "source": [
    "spam = ['cat', 'dog', 'bat']\n",
    "spam.insert(1, 'chicken')\n",
    "spam"
   ]
  },
  {
   "cell_type": "code",
   "execution_count": 44,
   "metadata": {
    "id": "HJ8qnSy6YhfW",
    "outputId": "949a49b8-4f89-421d-bb0f-a16cc0a44e9e"
   },
   "outputs": [
    {
     "data": {
      "text/plain": [
       "['cat', 'rat', 'elephant']"
      ]
     },
     "execution_count": 44,
     "metadata": {},
     "output_type": "execute_result"
    }
   ],
   "source": [
    "spam = ['cat', 'bat', 'rat', 'elephant']\n",
    "spam.remove('bat')\n",
    "spam"
   ]
  },
  {
   "cell_type": "markdown",
   "metadata": {
    "id": "UuV0qCtJYhfW"
   },
   "source": [
    "#### sort() function in list"
   ]
  },
  {
   "cell_type": "code",
   "execution_count": 45,
   "metadata": {
    "id": "Ub_UBB7RYhfW",
    "outputId": "d31b7d19-b5d5-4bcc-f785-03a3f94a7cca"
   },
   "outputs": [
    {
     "data": {
      "text/plain": [
       "['ants', 'badgers', 'cats', 'dogs', 'elephants']"
      ]
     },
     "execution_count": 45,
     "metadata": {},
     "output_type": "execute_result"
    }
   ],
   "source": [
    "spam = ['ants', 'cats', 'dogs', 'badgers', 'elephants']\n",
    "spam.sort()\n",
    "spam"
   ]
  },
  {
   "cell_type": "code",
   "execution_count": 46,
   "metadata": {
    "id": "XgeDms9kYhfX",
    "outputId": "0e00bcd7-dfcd-4894-9d23-c957420f3ab7"
   },
   "outputs": [
    {
     "data": {
      "text/plain": [
       "['elephants', 'dogs', 'cats', 'badgers', 'ants']"
      ]
     },
     "execution_count": 46,
     "metadata": {},
     "output_type": "execute_result"
    }
   ],
   "source": [
    "spam.sort(reverse=True)\n",
    "spam"
   ]
  },
  {
   "cell_type": "code",
   "execution_count": 47,
   "metadata": {
    "id": "iDialzFqYhfX",
    "outputId": "719d4b5c-a29c-405c-dd32-ca89c2396d7b"
   },
   "outputs": [
    {
     "data": {
      "text/plain": [
       "[-7, 1, 2, 3.14, 5]"
      ]
     },
     "execution_count": 47,
     "metadata": {},
     "output_type": "execute_result"
    }
   ],
   "source": [
    "spam = [2, 5, 3.14, 1, -7]\n",
    "spam.sort()\n",
    "spam"
   ]
  },
  {
   "cell_type": "code",
   "execution_count": 48,
   "metadata": {
    "id": "wl7xZblOYhfX",
    "outputId": "466b2696-4e1a-4444-bdd7-327eaedc1a7a"
   },
   "outputs": [
    {
     "data": {
      "text/plain": [
       "['A', 'Z', 'a', 'z']"
      ]
     },
     "execution_count": 48,
     "metadata": {},
     "output_type": "execute_result"
    }
   ],
   "source": [
    "spam = ['a', 'z', 'A', 'Z']\n",
    "spam.sort()\n",
    "spam"
   ]
  },
  {
   "cell_type": "code",
   "execution_count": 49,
   "metadata": {
    "id": "PY43sKwDYhfX",
    "outputId": "9defe6c0-c129-470d-bc90-c3166bb322b4"
   },
   "outputs": [
    {
     "data": {
      "text/plain": [
       "['A', 'a', 'Z', 'z']"
      ]
     },
     "execution_count": 49,
     "metadata": {},
     "output_type": "execute_result"
    }
   ],
   "source": [
    "spam.sort(key=str.lower)\n",
    "spam"
   ]
  },
  {
   "cell_type": "code",
   "execution_count": 50,
   "metadata": {
    "id": "gTxyTW--YhfX",
    "outputId": "b3f41e98-bfb3-49cf-9b22-0b489d16a3fa"
   },
   "outputs": [
    {
     "data": {
      "text/plain": [
       "['ants', 'badgers', 'cats', 'dogs', 'elephants']"
      ]
     },
     "execution_count": 50,
     "metadata": {},
     "output_type": "execute_result"
    }
   ],
   "source": [
    "spam = ['ants', 'cats', 'dogs', 'badgers', 'elephants']\n",
    "sorted(spam)"
   ]
  },
  {
   "cell_type": "markdown",
   "metadata": {
    "id": "RWlRfzqtYhfX"
   },
   "source": [
    "### Tuples"
   ]
  },
  {
   "cell_type": "code",
   "execution_count": 51,
   "metadata": {
    "id": "0x4vfySgYhfY",
    "outputId": "6d38b454-5a9c-4699-96f8-472e7a30bb20"
   },
   "outputs": [
    {
     "data": {
      "text/plain": [
       "42"
      ]
     },
     "execution_count": 51,
     "metadata": {},
     "output_type": "execute_result"
    }
   ],
   "source": [
    "eggs = ('hello', 42, 0.5)\n",
    "eggs[1]"
   ]
  },
  {
   "cell_type": "code",
   "execution_count": 52,
   "metadata": {
    "id": "R1cLqWeCYhfY",
    "outputId": "2e22268b-472a-4169-9e55-047cd1c154b6"
   },
   "outputs": [
    {
     "data": {
      "text/plain": [
       "('hello', 42)"
      ]
     },
     "execution_count": 52,
     "metadata": {},
     "output_type": "execute_result"
    }
   ],
   "source": [
    "eggs[0:2]"
   ]
  },
  {
   "cell_type": "code",
   "execution_count": 53,
   "metadata": {
    "id": "mQ5Ows7LYhfY",
    "outputId": "42f1468b-6e9a-4f3f-dc56-4298ca687247"
   },
   "outputs": [
    {
     "data": {
      "text/plain": [
       "3"
      ]
     },
     "execution_count": 53,
     "metadata": {},
     "output_type": "execute_result"
    }
   ],
   "source": [
    "len(eggs)"
   ]
  },
  {
   "cell_type": "markdown",
   "metadata": {
    "id": "ksmBin5OYhfZ"
   },
   "source": [
    "### Tuple <-> List conversions"
   ]
  },
  {
   "cell_type": "code",
   "execution_count": 54,
   "metadata": {
    "id": "W1R9mrjLYhfZ",
    "outputId": "ed817c9d-0666-4869-af6e-6d9bbf1c7773"
   },
   "outputs": [
    {
     "data": {
      "text/plain": [
       "('cat', 'dog', 5)"
      ]
     },
     "execution_count": 54,
     "metadata": {},
     "output_type": "execute_result"
    }
   ],
   "source": [
    "tuple(['cat', 'dog', 5])"
   ]
  },
  {
   "cell_type": "code",
   "execution_count": 55,
   "metadata": {
    "id": "B-mwdHpnYhfZ",
    "outputId": "f4adfb3b-b333-4862-85db-aab3a1e9bc9b"
   },
   "outputs": [
    {
     "data": {
      "text/plain": [
       "['cat', 'dog', 5]"
      ]
     },
     "execution_count": 55,
     "metadata": {},
     "output_type": "execute_result"
    }
   ],
   "source": [
    "list(('cat', 'dog', 5))"
   ]
  },
  {
   "cell_type": "code",
   "execution_count": 61,
   "metadata": {
    "id": "Zr6DCx15YhfZ",
    "outputId": "614d621d-58b8-48d9-9887-81fba091c8e4"
   },
   "outputs": [
    {
     "data": {
      "text/plain": [
       "['h', 'e', 'l', 'l', 'o', ' ', 'w', 'o', 'r', 'l', 'd', '!']"
      ]
     },
     "execution_count": 61,
     "metadata": {},
     "output_type": "execute_result"
    }
   ],
   "source": [
    "list('hello world!')"
   ]
  },
  {
   "cell_type": "markdown",
   "metadata": {
    "id": "g7LEj2K5YhfZ"
   },
   "source": [
    "### Dictionaries"
   ]
  },
  {
   "cell_type": "code",
   "execution_count": 3,
   "metadata": {
    "id": "aYXVmB3LYhfZ"
   },
   "outputs": [
    {
     "name": "stdout",
     "output_type": "stream",
     "text": [
      "{'size': 'fat', 'color': 'gray', 'disposition': 'loud'}\n",
      "Help on dict object:\n",
      "\n",
      "class dict(object)\n",
      " |  dict() -> new empty dictionary\n",
      " |  dict(mapping) -> new dictionary initialized from a mapping object's\n",
      " |      (key, value) pairs\n",
      " |  dict(iterable) -> new dictionary initialized as if via:\n",
      " |      d = {}\n",
      " |      for k, v in iterable:\n",
      " |          d[k] = v\n",
      " |  dict(**kwargs) -> new dictionary initialized with the name=value pairs\n",
      " |      in the keyword argument list.  For example:  dict(one=1, two=2)\n",
      " |  \n",
      " |  Built-in subclasses:\n",
      " |      StgDict\n",
      " |  \n",
      " |  Methods defined here:\n",
      " |  \n",
      " |  __contains__(self, key, /)\n",
      " |      True if the dictionary has the specified key, else False.\n",
      " |  \n",
      " |  __delitem__(self, key, /)\n",
      " |      Delete self[key].\n",
      " |  \n",
      " |  __eq__(self, value, /)\n",
      " |      Return self==value.\n",
      " |  \n",
      " |  __ge__(self, value, /)\n",
      " |      Return self>=value.\n",
      " |  \n",
      " |  __getattribute__(self, name, /)\n",
      " |      Return getattr(self, name).\n",
      " |  \n",
      " |  __getitem__(...)\n",
      " |      x.__getitem__(y) <==> x[y]\n",
      " |  \n",
      " |  __gt__(self, value, /)\n",
      " |      Return self>value.\n",
      " |  \n",
      " |  __init__(self, /, *args, **kwargs)\n",
      " |      Initialize self.  See help(type(self)) for accurate signature.\n",
      " |  \n",
      " |  __ior__(self, value, /)\n",
      " |      Return self|=value.\n",
      " |  \n",
      " |  __iter__(self, /)\n",
      " |      Implement iter(self).\n",
      " |  \n",
      " |  __le__(self, value, /)\n",
      " |      Return self<=value.\n",
      " |  \n",
      " |  __len__(self, /)\n",
      " |      Return len(self).\n",
      " |  \n",
      " |  __lt__(self, value, /)\n",
      " |      Return self<value.\n",
      " |  \n",
      " |  __ne__(self, value, /)\n",
      " |      Return self!=value.\n",
      " |  \n",
      " |  __or__(self, value, /)\n",
      " |      Return self|value.\n",
      " |  \n",
      " |  __repr__(self, /)\n",
      " |      Return repr(self).\n",
      " |  \n",
      " |  __reversed__(self, /)\n",
      " |      Return a reverse iterator over the dict keys.\n",
      " |  \n",
      " |  __ror__(self, value, /)\n",
      " |      Return value|self.\n",
      " |  \n",
      " |  __setitem__(self, key, value, /)\n",
      " |      Set self[key] to value.\n",
      " |  \n",
      " |  __sizeof__(...)\n",
      " |      D.__sizeof__() -> size of D in memory, in bytes\n",
      " |  \n",
      " |  clear(...)\n",
      " |      D.clear() -> None.  Remove all items from D.\n",
      " |  \n",
      " |  copy(...)\n",
      " |      D.copy() -> a shallow copy of D\n",
      " |  \n",
      " |  get(self, key, default=None, /)\n",
      " |      Return the value for key if key is in the dictionary, else default.\n",
      " |  \n",
      " |  items(...)\n",
      " |      D.items() -> a set-like object providing a view on D's items\n",
      " |  \n",
      " |  keys(...)\n",
      " |      D.keys() -> a set-like object providing a view on D's keys\n",
      " |  \n",
      " |  pop(...)\n",
      " |      D.pop(k[,d]) -> v, remove specified key and return the corresponding value.\n",
      " |      \n",
      " |      If key is not found, default is returned if given, otherwise KeyError is raised\n",
      " |  \n",
      " |  popitem(self, /)\n",
      " |      Remove and return a (key, value) pair as a 2-tuple.\n",
      " |      \n",
      " |      Pairs are returned in LIFO (last-in, first-out) order.\n",
      " |      Raises KeyError if the dict is empty.\n",
      " |  \n",
      " |  setdefault(self, key, default=None, /)\n",
      " |      Insert key with a value of default if key is not in the dictionary.\n",
      " |      \n",
      " |      Return the value for key if key is in the dictionary, else default.\n",
      " |  \n",
      " |  update(...)\n",
      " |      D.update([E, ]**F) -> None.  Update D from dict/iterable E and F.\n",
      " |      If E is present and has a .keys() method, then does:  for k in E: D[k] = E[k]\n",
      " |      If E is present and lacks a .keys() method, then does:  for k, v in E: D[k] = v\n",
      " |      In either case, this is followed by: for k in F:  D[k] = F[k]\n",
      " |  \n",
      " |  values(...)\n",
      " |      D.values() -> an object providing a view on D's values\n",
      " |  \n",
      " |  ----------------------------------------------------------------------\n",
      " |  Class methods defined here:\n",
      " |  \n",
      " |  __class_getitem__(...) from builtins.type\n",
      " |      See PEP 585\n",
      " |  \n",
      " |  fromkeys(iterable, value=None, /) from builtins.type\n",
      " |      Create a new dictionary with keys from iterable and values set to value.\n",
      " |  \n",
      " |  ----------------------------------------------------------------------\n",
      " |  Static methods defined here:\n",
      " |  \n",
      " |  __new__(*args, **kwargs) from builtins.type\n",
      " |      Create and return a new object.  See help(type) for accurate signature.\n",
      " |  \n",
      " |  ----------------------------------------------------------------------\n",
      " |  Data and other attributes defined here:\n",
      " |  \n",
      " |  __hash__ = None\n",
      "\n"
     ]
    }
   ],
   "source": [
    "myCat = {'size': 'fat', 'color': 'gray', 'disposition': 'loud'}\n",
    "print(myCat)\n",
    "help(myCat)"
   ]
  },
  {
   "cell_type": "code",
   "execution_count": 4,
   "metadata": {
    "id": "ZcYKZAT_Yhfa",
    "outputId": "7b5d09b8-f440-43cb-cb41-4a3b891861b8"
   },
   "outputs": [
    {
     "name": "stdout",
     "output_type": "stream",
     "text": [
      "red\n",
      "42\n"
     ]
    }
   ],
   "source": [
    "spam = {'color': 'red', 'age': 42}\n",
    "for v in spam.values():\n",
    "    print(v)"
   ]
  },
  {
   "cell_type": "code",
   "execution_count": 16,
   "metadata": {
    "id": "ZRHHjeoOYhfa",
    "outputId": "d6ad5992-623e-4a06-9a0b-265996eea1c8"
   },
   "outputs": [
    {
     "name": "stdout",
     "output_type": "stream",
     "text": [
      "name\n",
      "age\n"
     ]
    }
   ],
   "source": [
    "for k in spam.keys():\n",
    "    print(k)"
   ]
  },
  {
   "cell_type": "code",
   "execution_count": 6,
   "metadata": {
    "id": "PmkFlru6Yhfa",
    "outputId": "c6794997-270a-4db2-e34f-c6fa462c1f81"
   },
   "outputs": [
    {
     "name": "stdout",
     "output_type": "stream",
     "text": [
      "('color', 'red')\n",
      "('age', 42)\n"
     ]
    }
   ],
   "source": [
    "for i in spam.items():\n",
    "    print(i)"
   ]
  },
  {
   "cell_type": "code",
   "execution_count": 7,
   "metadata": {
    "id": "OpT0hDalYhfa",
    "outputId": "f9448197-c0c9-4856-a692-4a33302522bf"
   },
   "outputs": [
    {
     "name": "stdout",
     "output_type": "stream",
     "text": [
      "Key: color Value: red\n",
      "Key: age Value: 42\n"
     ]
    }
   ],
   "source": [
    "for k, v in spam.items():\n",
    "    print('Key: {} Value: {}'.format(k, str(v)))"
   ]
  },
  {
   "cell_type": "code",
   "execution_count": 8,
   "metadata": {
    "id": "luSeux4MYhfb",
    "outputId": "83ce2e6e-e37f-498c-ad24-89364184b7a9"
   },
   "outputs": [
    {
     "data": {
      "text/plain": [
       "True"
      ]
     },
     "execution_count": 8,
     "metadata": {},
     "output_type": "execute_result"
    }
   ],
   "source": [
    "spam = {'name': 'Zophie', 'age': 7}\n",
    "'name' in spam.keys()"
   ]
  },
  {
   "cell_type": "code",
   "execution_count": 9,
   "metadata": {
    "id": "fAXqvdvIYhfb",
    "outputId": "5e935d16-3a00-4853-bc14-e91b82ff78b5"
   },
   "outputs": [
    {
     "data": {
      "text/plain": [
       "True"
      ]
     },
     "execution_count": 9,
     "metadata": {},
     "output_type": "execute_result"
    }
   ],
   "source": [
    "'Zophie' in spam.values()"
   ]
  },
  {
   "cell_type": "code",
   "execution_count": 10,
   "metadata": {
    "id": "7jNQamE8Yhfb",
    "outputId": "058b60df-c85a-4954-9ee3-89e1a3ac8886"
   },
   "outputs": [
    {
     "data": {
      "text/plain": [
       "False"
      ]
     },
     "execution_count": 10,
     "metadata": {},
     "output_type": "execute_result"
    }
   ],
   "source": [
    "'color' in spam"
   ]
  },
  {
   "cell_type": "code",
   "execution_count": 11,
   "metadata": {
    "id": "YLdmzw4uYhfb",
    "outputId": "8968b824-dc2d-449e-915f-30d3f8e33e5c"
   },
   "outputs": [
    {
     "data": {
      "text/plain": [
       "'I am bringing 2 cups.'"
      ]
     },
     "execution_count": 11,
     "metadata": {},
     "output_type": "execute_result"
    }
   ],
   "source": [
    "picnic_items = {'apples': 5, 'cups': 2}\n",
    "'I am bringing {} cups.'.format(str(picnic_items.get('cups', 0)))"
   ]
  },
  {
   "cell_type": "code",
   "execution_count": 12,
   "metadata": {
    "id": "DUb_VCpTYhfb",
    "outputId": "8a9dd971-8335-487f-b99b-6e1b662d66c2"
   },
   "outputs": [
    {
     "data": {
      "text/plain": [
       "'I am bringing 0 eggs.'"
      ]
     },
     "execution_count": 12,
     "metadata": {},
     "output_type": "execute_result"
    }
   ],
   "source": [
    "'I am bringing {} eggs.'.format(str(picnic_items.get('eggs', 0)))"
   ]
  },
  {
   "cell_type": "code",
   "execution_count": 17,
   "metadata": {
    "id": "uLGNbDsuYhfb",
    "outputId": "d6df77c9-1793-454c-b21a-fa9487389519"
   },
   "outputs": [
    {
     "data": {
      "text/plain": [
       "{'name': 'Poo', 'age': 5, 'color': 'black'}"
      ]
     },
     "execution_count": 17,
     "metadata": {},
     "output_type": "execute_result"
    }
   ],
   "source": [
    "spam = {'name': 'Poo', 'age': 5}\n",
    "\n",
    "if 'color' not in spam:\n",
    "    spam['color'] = 'black'\n",
    "spam"
   ]
  },
  {
   "cell_type": "code",
   "execution_count": 21,
   "metadata": {
    "id": "h3xW01D4Yhfc",
    "outputId": "176ce281-2edd-430f-8414-1643f5e11fcf"
   },
   "outputs": [
    {
     "data": {
      "text/plain": [
       "{'name': 'Alice', 'age': 5, 'color': 'black', 'Address': 'IDK', 'Age': 25}"
      ]
     },
     "execution_count": 21,
     "metadata": {},
     "output_type": "execute_result"
    }
   ],
   "source": [
    "spam = {'name': 'Poo', 'age': 5}\n",
    "spam.setdefault('color', 'black')\n",
    "\n",
    "spam.update({'Address': 'IDK', 'name': 'Alice', 'Age': 25})\n",
    "\n",
    "spam"
   ]
  },
  {
   "cell_type": "code",
   "execution_count": 19,
   "metadata": {
    "id": "ZGpC8i64Yhfc",
    "outputId": "e4861eaf-0873-4387-88b4-cdb83189ed38"
   },
   "outputs": [
    {
     "data": {
      "text/plain": [
       "'black'"
      ]
     },
     "execution_count": 19,
     "metadata": {},
     "output_type": "execute_result"
    }
   ],
   "source": [
    "spam.setdefault('color', 'white')"
   ]
  },
  {
   "cell_type": "markdown",
   "metadata": {
    "id": "Fplofzu2Yhfc"
   },
   "source": [
    "#### “Everything in Python is an Object” means every variable holds an object instance. When an object is created, it is assigned a unique object id. Depending on the type of the object, a mutable object can be changed after it is created, and an immutable object can not be changed.\n",
    "Objects of built-in types like (int, float, str, bool, tuple) are immutable while objects of built-in types like (list, set, dict) are mutable. Custom classes are generally mutable but can be set up to simulate immutability."
   ]
  },
  {
   "cell_type": "code",
   "execution_count": null,
   "metadata": {
    "id": "LtJq5QwVYhfc"
   },
   "outputs": [],
   "source": []
  },
  {
   "cell_type": "code",
   "execution_count": null,
   "metadata": {
    "id": "2rmbaiOaYhfc"
   },
   "outputs": [],
   "source": []
  },
  {
   "cell_type": "markdown",
   "metadata": {
    "id": "jkOiBDqbYhfc"
   },
   "source": [
    "### Pretty Printing"
   ]
  },
  {
   "cell_type": "code",
   "execution_count": 43,
   "metadata": {
    "id": "wkZXTpicYhfc",
    "outputId": "e8f25a8b-8e4b-4732-fe0f-9452dd9881fb"
   },
   "outputs": [
    {
     "name": "stdout",
     "output_type": "stream",
     "text": [
      "{' ': 13,\n",
      " ',': 1,\n",
      " '.': 1,\n",
      " 'A': 1,\n",
      " 'I': 1,\n",
      " 'a': 4,\n",
      " 'b': 1,\n",
      " 'c': 3,\n",
      " 'd': 3,\n",
      " 'e': 5,\n",
      " 'g': 2,\n",
      " 'h': 3,\n",
      " 'i': 6,\n",
      " 'k': 2,\n",
      " 'l': 3,\n",
      " 'n': 4,\n",
      " 'o': 2,\n",
      " 'p': 1,\n",
      " 'r': 5,\n",
      " 's': 3,\n",
      " 't': 6,\n",
      " 'w': 2,\n",
      " 'y': 1}\n"
     ]
    }
   ],
   "source": [
    "from pprint import pprint\n",
    "\n",
    "message = 'It was a bright cold day in April, and the clocks were striking thirteen.'\n",
    "\n",
    "count = {}\n",
    "\n",
    "for character in message:\n",
    "    count.setdefault(character, 0)\n",
    "    count[character] = count[character] + 1\n",
    "\n",
    "    \n",
    "pprint(count)\n"
   ]
  },
  {
   "cell_type": "markdown",
   "metadata": {
    "id": "01UoUp5aYhfc"
   },
   "source": [
    "### Merging dictionaries"
   ]
  },
  {
   "cell_type": "code",
   "execution_count": 61,
   "metadata": {
    "id": "A2hyxQrdYhfd",
    "outputId": "b3f91932-00d9-4400-81ca-3c3e6937d2f3"
   },
   "outputs": [
    {
     "name": "stdout",
     "output_type": "stream",
     "text": [
      "{'a': {'A': 1}, 'b': {'BB': 33}, 'c': {'C': 4, 'CC': 44}}\n",
      "{'a': {'A': 1}, 'b': {'BB': 33}, 'c': {'C': 4, 'CC': 44}}\n"
     ]
    }
   ],
   "source": [
    "import copy\n",
    "x = {'a': {'A': 1}, 'b': {'B': 2, 'BB': 22}}\n",
    "y = {'b': {'BB': 33}, 'c': {'C': 4, 'CC': 44}}\n",
    "z1 = {**x, **y}\n",
    "z = copy.deepcopy(x)\n",
    "z.update(y)\n",
    "print(z)\n",
    "print(z1)\n"
   ]
  },
  {
   "cell_type": "markdown",
   "metadata": {
    "id": "EWL4o3SSYhfd"
   },
   "source": [
    "### Sets"
   ]
  },
  {
   "cell_type": "code",
   "execution_count": 1,
   "metadata": {
    "id": "rHHUnJ4kYhfd",
    "outputId": "084d9f7e-e29a-464a-e4cd-49ecc11b96cb"
   },
   "outputs": [
    {
     "data": {
      "text/plain": [
       "{1, 2, 3}"
      ]
     },
     "execution_count": 1,
     "metadata": {},
     "output_type": "execute_result"
    }
   ],
   "source": [
    "s = {1, 2, 3}\n",
    "s"
   ]
  },
  {
   "cell_type": "code",
   "execution_count": 2,
   "metadata": {
    "id": "gTjaNh9XYhfd"
   },
   "outputs": [],
   "source": [
    "s = set([1, 2, 3])"
   ]
  },
  {
   "cell_type": "code",
   "execution_count": 3,
   "metadata": {
    "id": "JJDFnq0lYhfe",
    "outputId": "00c6aaf1-5b28-4f39-acbb-66bdd5b408bd"
   },
   "outputs": [
    {
     "data": {
      "text/plain": [
       "dict"
      ]
     },
     "execution_count": 3,
     "metadata": {},
     "output_type": "execute_result"
    }
   ],
   "source": [
    "s = {}\n",
    "type(s)"
   ]
  },
  {
   "cell_type": "code",
   "execution_count": 4,
   "metadata": {
    "id": "FIB85t-tYhfe",
    "outputId": "0cf17904-aa3e-4178-cb3f-adb2b8345351"
   },
   "outputs": [
    {
     "data": {
      "text/plain": [
       "set"
      ]
     },
     "execution_count": 4,
     "metadata": {},
     "output_type": "execute_result"
    }
   ],
   "source": [
    "s=set([])\n",
    "type(s)"
   ]
  },
  {
   "cell_type": "code",
   "execution_count": 5,
   "metadata": {
    "id": "47SKem8aYhfe",
    "outputId": "42d68f87-ebc1-44c9-a412-5e202d4d3f3f"
   },
   "outputs": [
    {
     "data": {
      "text/plain": [
       "{1, 2, 3, 4}"
      ]
     },
     "execution_count": 5,
     "metadata": {},
     "output_type": "execute_result"
    }
   ],
   "source": [
    "s = {1, 2, 3, 2, 3, 4}\n",
    "s"
   ]
  },
  {
   "cell_type": "code",
   "execution_count": 6,
   "metadata": {
    "id": "ctDGM1JCYhfe",
    "outputId": "3a28d9b2-17b8-4ab4-ed47-a82cbcf6ab5f"
   },
   "outputs": [
    {
     "data": {
      "text/plain": [
       "{1, 2, 3, 4}"
      ]
     },
     "execution_count": 6,
     "metadata": {},
     "output_type": "execute_result"
    }
   ],
   "source": [
    "s = {1, 2, 3}\n",
    "s.add(4)\n",
    "s"
   ]
  },
  {
   "cell_type": "code",
   "execution_count": 7,
   "metadata": {
    "id": "6DNI0Y2-Yhfe",
    "outputId": "e78ec919-d75d-4fbf-ee84-02d06ddacde3"
   },
   "outputs": [
    {
     "data": {
      "text/plain": [
       "{1, 2, 3, 4, 5, 6}"
      ]
     },
     "execution_count": 7,
     "metadata": {},
     "output_type": "execute_result"
    }
   ],
   "source": [
    "s = {1, 2, 3}\n",
    "s.update([2, 3, 4, 5, 6])\n",
    "s"
   ]
  },
  {
   "cell_type": "code",
   "execution_count": 8,
   "metadata": {
    "id": "hIyQLLtOYhfe",
    "outputId": "b8032c21-3107-417f-8de4-5e40d9d1ac63"
   },
   "outputs": [
    {
     "data": {
      "text/plain": [
       "{1, 2}"
      ]
     },
     "execution_count": 8,
     "metadata": {},
     "output_type": "execute_result"
    }
   ],
   "source": [
    "s = {1, 2, 3}\n",
    "s.remove(3)\n",
    "s"
   ]
  },
  {
   "cell_type": "code",
   "execution_count": 9,
   "metadata": {
    "id": "DjvfeHGdYhff",
    "outputId": "58adf4a5-6ef3-41c6-eba9-db382b98d589"
   },
   "outputs": [
    {
     "data": {
      "text/plain": [
       "{1, 2}"
      ]
     },
     "execution_count": 9,
     "metadata": {},
     "output_type": "execute_result"
    }
   ],
   "source": [
    "s = {1, 2, 3}\n",
    "s.discard(3)\n",
    "s\n",
    "s.discard(3)\n",
    "s"
   ]
  },
  {
   "cell_type": "code",
   "execution_count": 10,
   "metadata": {
    "id": "WteYRvSFYhff",
    "outputId": "f9d26294-68e5-4f0b-be20-29ad927629be"
   },
   "outputs": [
    {
     "data": {
      "text/plain": [
       "{1, 2, 3, 4, 5}"
      ]
     },
     "execution_count": 10,
     "metadata": {},
     "output_type": "execute_result"
    }
   ],
   "source": [
    "s1 = {1, 2, 3}\n",
    "s2 = {3, 4, 5}\n",
    "s1.union(s2)  # or 's1 | s2'"
   ]
  },
  {
   "cell_type": "code",
   "execution_count": 11,
   "metadata": {
    "id": "jJ8otCZFYhff",
    "outputId": "76541ef1-a328-4b95-d7b8-b828efdfb5a6"
   },
   "outputs": [
    {
     "data": {
      "text/plain": [
       "{3}"
      ]
     },
     "execution_count": 11,
     "metadata": {},
     "output_type": "execute_result"
    }
   ],
   "source": [
    "s1.intersection(s2)"
   ]
  },
  {
   "cell_type": "code",
   "execution_count": 12,
   "metadata": {
    "id": "rVRdCVI8Yhff",
    "outputId": "7c232b98-3a0a-4bed-936b-16800ad16e91"
   },
   "outputs": [
    {
     "data": {
      "text/plain": [
       "{1, 2}"
      ]
     },
     "execution_count": 12,
     "metadata": {},
     "output_type": "execute_result"
    }
   ],
   "source": [
    "s1.difference(s2)"
   ]
  },
  {
   "cell_type": "code",
   "execution_count": 13,
   "metadata": {
    "id": "guotWV8HYhff",
    "outputId": "6cdc4743-f6e9-4c49-bed9-304ba8804248"
   },
   "outputs": [
    {
     "data": {
      "text/plain": [
       "{1, 2, 4, 5}"
      ]
     },
     "execution_count": 13,
     "metadata": {},
     "output_type": "execute_result"
    }
   ],
   "source": [
    "s1.symmetric_difference(s2)"
   ]
  },
  {
   "cell_type": "markdown",
   "metadata": {
    "id": "1cfXhRxhYhff"
   },
   "source": [
    "## Iter Tools"
   ]
  },
  {
   "cell_type": "code",
   "execution_count": null,
   "metadata": {
    "id": "er9bVlAzYhff",
    "outputId": "7221a78f-a6e9-40b5-b981-20ffe58c83c3"
   },
   "outputs": [],
   "source": [
    "import itertools\n",
    "data = [1, 2, 3, 4, 5]\n",
    "result = itertools.accumulate(data, operator.mul)\n",
    "for each in result:\n",
    "    print(each)"
   ]
  },
  {
   "cell_type": "code",
   "execution_count": null,
   "metadata": {
    "id": "HJ7f4fjhYhff",
    "outputId": "01a58f53-cce5-4645-b656-924bfce3a792"
   },
   "outputs": [],
   "source": [
    "data = [5, 2, 6, 4, 5, 9, 1]\n",
    "result = itertools.accumulate(data)\n",
    "for each in result:\n",
    "    print(each)"
   ]
  },
  {
   "cell_type": "code",
   "execution_count": null,
   "metadata": {
    "id": "UvGF4rQgYhfg",
    "outputId": "b9113e5a-e01b-4d2f-93c8-61b7d51eae93"
   },
   "outputs": [],
   "source": [
    "shapes = ['circle', 'triangle', 'square',]\n",
    "result = itertools.combinations(shapes, 2)\n",
    "for each in result:\n",
    "    print(each)\n",
    "    \n",
    "#result = itertools.combinations_with_replacement(shapes, 2)"
   ]
  },
  {
   "cell_type": "code",
   "execution_count": null,
   "metadata": {
    "id": "pVnnS-QrYhfg",
    "outputId": "7f591414-81bb-41fb-b838-5be69345aa04"
   },
   "outputs": [],
   "source": [
    "for i in itertools.count(10,3):\n",
    "    print(i)\n",
    "    if i > 20:\n",
    "        break"
   ]
  },
  {
   "cell_type": "markdown",
   "metadata": {
    "id": "VPnhBxioYhfg"
   },
   "source": [
    "#### itertools.cycle(iterable)"
   ]
  },
  {
   "cell_type": "markdown",
   "metadata": {
    "id": "dpd5oQi2Yhfg"
   },
   "source": [
    "This function cycles through an iterator endlessly."
   ]
  },
  {
   "cell_type": "markdown",
   "metadata": {
    "id": "QqPl5N1aYhfg"
   },
   "source": [
    "#### chain()\n",
    "Take a series of iterables and return them as one long iterable."
   ]
  },
  {
   "cell_type": "code",
   "execution_count": null,
   "metadata": {
    "id": "RlcS6uuqYhfg",
    "outputId": "06d7b559-af45-4404-a9cb-8c9df17cf43c"
   },
   "outputs": [],
   "source": [
    "colors = ['red', 'orange', 'yellow', 'green', 'blue']\n",
    "shapes = ['circle', 'triangle', 'square', 'pentagon']\n",
    "result = itertools.chain(colors, shapes)\n",
    "for each in result:\n",
    "    print(each)"
   ]
  },
  {
   "cell_type": "code",
   "execution_count": null,
   "metadata": {
    "id": "QIFNkH4kYhfg",
    "outputId": "025f9918-00ee-4990-e5da-be0bbee2e323"
   },
   "outputs": [],
   "source": [
    "shapes = ['circle', 'triangle', 'square', 'pentagon']\n",
    "selections = [True, False, True, False]\n",
    "result = itertools.compress(shapes, selections)\n",
    "for each in result:\n",
    "    print(each)"
   ]
  },
  {
   "cell_type": "code",
   "execution_count": null,
   "metadata": {
    "id": "6Fo3xnimYhfh",
    "outputId": "d762632c-21fe-4277-88e0-050fd448d046"
   },
   "outputs": [],
   "source": [
    "data = [1, 2, 3, 4, 5, 6, 7, 8, 9, 10, 1]\n",
    "result = itertools.dropwhile(lambda x: x<5, data)\n",
    "for each in result:\n",
    "    print(each)"
   ]
  },
  {
   "cell_type": "code",
   "execution_count": null,
   "metadata": {
    "id": "tCDTmJrcYhfh",
    "outputId": "8e1989d2-e047-4f36-ddc6-d9d24b813ffa"
   },
   "outputs": [],
   "source": [
    "data = [1, 2, 3, 4, 5, 6, 7, 8, 9, 10, 1]\n",
    "result = itertools.filterfalse(lambda x: x<5, data)\n",
    "for each in result:\n",
    "    print(each)"
   ]
  },
  {
   "cell_type": "markdown",
   "metadata": {
    "id": "AQIdBFiCYhfh"
   },
   "source": [
    "##### itertools.islice(iterable, start, stop[, step])\n",
    "#### itertools.groupby(iterable, key=None)\n",
    "#### itertools.permutations(iterable, r=None)\n",
    "#### itertools.product(num_data, alpha_data)\n",
    "#### itertools.starmap(function, iterable)\n",
    "#### itertools.takewhile(predicate, iterable)"
   ]
  },
  {
   "cell_type": "markdown",
   "metadata": {
    "id": "CNEGc3bQYhfh"
   },
   "source": [
    "## Comprehensions"
   ]
  },
  {
   "cell_type": "code",
   "execution_count": 36,
   "metadata": {
    "id": "Njc3X6lqYhfh",
    "outputId": "e59d1e71-e4ef-4d53-a7bf-4f1f3e95f65e"
   },
   "outputs": [
    {
     "data": {
      "text/plain": [
       "[0, 2, 4, 6, 8, 10]"
      ]
     },
     "execution_count": 36,
     "metadata": {},
     "output_type": "execute_result"
    }
   ],
   "source": [
    "def myFunc(x):\n",
    "    return x**x\n",
    "\n",
    "a = [1, 3, 5, 7, 9, 11]\n",
    "[i-1 for i in a]"
   ]
  },
  {
   "cell_type": "code",
   "execution_count": 28,
   "metadata": {
    "id": "AGKFBCmdYhfh",
    "outputId": "bdd1722a-cc4f-464a-9abc-5120968f37ca"
   },
   "outputs": [
    {
     "data": {
      "text/plain": [
       "{'ABC', 'DEF'}"
      ]
     },
     "execution_count": 28,
     "metadata": {},
     "output_type": "execute_result"
    }
   ],
   "source": [
    "b = {\"abc\", \"def\"}\n",
    "{s.upper() for s in b}"
   ]
  },
  {
   "cell_type": "code",
   "execution_count": 29,
   "metadata": {
    "id": "lKrH2rsZYhfh",
    "outputId": "28ba1064-b226-4e46-d85c-b2746dd61edf"
   },
   "outputs": [
    {
     "data": {
      "text/plain": [
       "{'Poo': 'name', 5: 'age'}"
      ]
     },
     "execution_count": 29,
     "metadata": {},
     "output_type": "execute_result"
    }
   ],
   "source": [
    "c = {'name': 'Poo', 'age': 5}\n",
    "{v: k for k, v in c.items()}"
   ]
  },
  {
   "cell_type": "markdown",
   "metadata": {
    "id": "QBqcuRvzYhfh"
   },
   "source": [
    "## String Manipulation\n",
    "\n",
    "Escape Characters\n",
    "Escape character\tPrints as\n",
    "\n",
    "    \\'\tSingle quote\n",
    "    \\\"\tDouble quote\n",
    "    \\t\tTab\n",
    "    \\n\tNewline (line break)\n",
    "    \\\\\tBackslash"
   ]
  },
  {
   "cell_type": "code",
   "execution_count": null,
   "metadata": {
    "id": "mYaI_NEUYhfh",
    "outputId": "f87aec51-9096-4dbb-bfe4-aae9c7fa1c94"
   },
   "outputs": [],
   "source": [
    "print(\"Hello there!\\nHow are you?\\nI\\'m doing fine.\")"
   ]
  },
  {
   "cell_type": "code",
   "execution_count": null,
   "metadata": {
    "id": "soINPTm1Yhfi",
    "outputId": "097aabfb-0f9c-4c6e-a30b-5523cda0d287"
   },
   "outputs": [],
   "source": [
    "print(r'That is Carol\\'s cat.')"
   ]
  },
  {
   "cell_type": "code",
   "execution_count": null,
   "metadata": {
    "id": "KHz6fOSjYhfi",
    "outputId": "c449f7b7-ea8b-4d01-a998-fb8c29467f73"
   },
   "outputs": [],
   "source": [
    "print('''Dear Alice,\n",
    "\n",
    "Eve's cat has been arrested for catnapping, cat burglary, and extortion.\n",
    "\n",
    "Sincerely,\n",
    "Bob''')"
   ]
  },
  {
   "cell_type": "code",
   "execution_count": null,
   "metadata": {
    "id": "PUL53ylbYhfi",
    "outputId": "2fa48446-5578-49e8-e833-a2f2498db37b"
   },
   "outputs": [],
   "source": [
    "spam = 'Hello world!'\n",
    "spam[0]"
   ]
  },
  {
   "cell_type": "code",
   "execution_count": null,
   "metadata": {
    "id": "N-PsjHkqYhfi",
    "outputId": "e5f07994-9b20-4cbb-b042-504903484d3e"
   },
   "outputs": [],
   "source": [
    "spam[-1]"
   ]
  },
  {
   "cell_type": "code",
   "execution_count": null,
   "metadata": {
    "id": "fufqHlK-Yhfi",
    "outputId": "e51524e5-4694-4640-b02c-25b35a4e452d"
   },
   "outputs": [],
   "source": [
    "spam[0:5]"
   ]
  },
  {
   "cell_type": "code",
   "execution_count": null,
   "metadata": {
    "id": "QJlkYwtaYhfi",
    "outputId": "049a5f74-ef51-479e-d882-48b499fc8908"
   },
   "outputs": [],
   "source": [
    "spam[6:-1]"
   ]
  },
  {
   "cell_type": "code",
   "execution_count": null,
   "metadata": {
    "id": "zidPg3LvYhfi",
    "outputId": "936b7be2-6c8f-4c49-eeb7-93f0075a2b22"
   },
   "outputs": [],
   "source": [
    "spam[::-1]"
   ]
  },
  {
   "cell_type": "code",
   "execution_count": null,
   "metadata": {
    "id": "zbkX-QTgYhfj",
    "outputId": "ad3aaaa2-1256-4488-b532-ca497e41ed23"
   },
   "outputs": [],
   "source": [
    "'Hello' in 'Hello World'"
   ]
  },
  {
   "cell_type": "code",
   "execution_count": null,
   "metadata": {
    "id": "eFfY8uJ5Yhfj",
    "outputId": "9f587b66-f96f-4e49-da67-13d61f70120e"
   },
   "outputs": [],
   "source": [
    "'cats' not in 'cats and dogs'"
   ]
  },
  {
   "cell_type": "code",
   "execution_count": null,
   "metadata": {
    "id": "bxdk4pYMYhfj",
    "outputId": "de2d6b87-eebe-486e-d0f8-2141b5998110"
   },
   "outputs": [],
   "source": [
    "spam = 'Hello world!'\n",
    "spam = spam.upper()\n",
    "spam"
   ]
  },
  {
   "cell_type": "code",
   "execution_count": null,
   "metadata": {
    "id": "PbaZryflYhfj"
   },
   "outputs": [],
   "source": [
    "### spam = spam.lower()\n",
    "### spam.islower()\n",
    "### spam.isupper()"
   ]
  },
  {
   "cell_type": "markdown",
   "metadata": {
    "id": "K2NgfpNEYhfj"
   },
   "source": [
    "#### The isX String Methods\n",
    "isalpha() returns True if the string consists only of letters and is not blank.\n",
    "\n",
    "isalnum() returns True if the string consists only of letters and numbers and is not blank.\n",
    "\n",
    "isdecimal() returns True if the string consists only of numeric characters and is not blank.\n",
    "\n",
    "isspace() returns True if the string consists only of spaces,tabs, and new-lines and is not blank.\n",
    "\n",
    "istitle() returns True if the string consists only of words that begin with an uppercase letter followed by only lowercase letters.\n",
    "\n",
    "The startswith() and endswith() String Methods"
   ]
  },
  {
   "cell_type": "code",
   "execution_count": null,
   "metadata": {
    "id": "dE6KVetBYhfj",
    "outputId": "c0962b9c-b5d1-42fb-b9c8-ed913d452929"
   },
   "outputs": [],
   "source": [
    "\"hello world\".startswith(\"hello\")"
   ]
  },
  {
   "cell_type": "code",
   "execution_count": null,
   "metadata": {
    "id": "Eyvh8YZWYhfj",
    "outputId": "758bf970-a73d-46fe-a67f-59d75fafa051"
   },
   "outputs": [],
   "source": [
    "'MyABCnameABCisABCSimon'.split('ABC')"
   ]
  },
  {
   "cell_type": "code",
   "execution_count": null,
   "metadata": {
    "id": "NV1Ib7BeYhfj",
    "outputId": "41a446de-b2dd-43f8-9a25-b8eb42e66609"
   },
   "outputs": [],
   "source": [
    "'ABC'.join(['My', 'name', 'is', 'Simon'])"
   ]
  },
  {
   "cell_type": "markdown",
   "metadata": {
    "id": "slJFQ6XFYhfk"
   },
   "source": [
    "#### Justifying Text with rjust(), ljust(), and center()\n",
    "#### Removing Whitespace with strip(), rstrip(), and lstrip()"
   ]
  },
  {
   "cell_type": "markdown",
   "metadata": {
    "id": "NqTICxkbYhfk"
   },
   "source": [
    "### String formatting"
   ]
  },
  {
   "cell_type": "code",
   "execution_count": null,
   "metadata": {
    "id": "l9S75tZdYhfk",
    "outputId": "16129783-1c4a-4368-ef95-08d9d952a862"
   },
   "outputs": [],
   "source": [
    "name = 'Pete'\n",
    "'Hello %s' % name"
   ]
  },
  {
   "cell_type": "code",
   "execution_count": null,
   "metadata": {
    "id": "tpOFLpD8Yhfk",
    "outputId": "7915219c-211f-4588-b16d-915d4b50d03c"
   },
   "outputs": [],
   "source": [
    "num = 5\n",
    "'I have %x apples' % num"
   ]
  },
  {
   "cell_type": "code",
   "execution_count": null,
   "metadata": {
    "id": "5TcfqdRJYhfk",
    "outputId": "5559b353-5ac8-4d04-aeda-ee4e70c7e018"
   },
   "outputs": [],
   "source": [
    "name = 'John'\n",
    "age = 20\n",
    "\"Hello I'm {}, my age is {}\".format(name, age)"
   ]
  },
  {
   "cell_type": "markdown",
   "metadata": {
    "id": "K2PJzrxlYhfk"
   },
   "source": [
    "## Regular Expressions\n",
    "Import the regex module with import re.\n",
    "\n",
    "Create a Regex object with the re.compile() function. (Remember to use a raw string.)\n",
    "\n",
    "Pass the string you want to search into the Regex object’s search() method. This returns a Match object.\n",
    "\n",
    "Call the Match object’s group() method to return a string of the actual matched text.\n",
    "\n",
    "All the regex functions in Python are in the re module:"
   ]
  },
  {
   "cell_type": "code",
   "execution_count": null,
   "metadata": {
    "id": "LsCRDnFWYhfk",
    "outputId": "64adeb64-16eb-4e64-8280-484dcfdc3a49"
   },
   "outputs": [],
   "source": [
    "import re\n",
    "phone_num_regex = re.compile(r'\\d\\d\\d-\\d\\d\\d-\\d\\d\\d\\d')\n",
    "mo = phone_num_regex.search('My number is 415-555-4242.')\n",
    "print('Phone number found: {}'.format(mo.group()))"
   ]
  },
  {
   "cell_type": "code",
   "execution_count": null,
   "metadata": {
    "id": "lYj8rFaVYhfk",
    "outputId": "8e86f194-2f51-4b9a-9ad6-888d8572b152"
   },
   "outputs": [],
   "source": [
    "phone_num_regex = re.compile(r'(\\d\\d\\d)-(\\d\\d\\d-\\d\\d\\d\\d)')\n",
    "mo = phone_num_regex.search('My number is 415-555-4242.')\n",
    "print(mo.group(1))\n",
    "print(mo.group(2))\n",
    "print(mo.group(0))\n",
    "print(mo.group())"
   ]
  },
  {
   "cell_type": "code",
   "execution_count": null,
   "metadata": {
    "id": "ep43GC44Yhfk",
    "outputId": "195907ee-3833-45ee-db64-2a19593a7257"
   },
   "outputs": [],
   "source": [
    "mo.groups()"
   ]
  },
  {
   "cell_type": "code",
   "execution_count": null,
   "metadata": {
    "id": "9we_CxUDYhfk",
    "outputId": "94488baa-de3e-47c9-b759-f18f40ad44d1"
   },
   "outputs": [],
   "source": [
    "area_code, main_number = mo.groups()\n",
    "print(area_code)\n",
    "print(main_number)"
   ]
  },
  {
   "cell_type": "markdown",
   "metadata": {
    "id": "DreDmPOxYhfl"
   },
   "source": [
    "### Matching Multiple Groups with the Pipe"
   ]
  },
  {
   "cell_type": "code",
   "execution_count": null,
   "metadata": {
    "id": "3cfJR8mBYhfl",
    "outputId": "c56dfbbd-531e-4f2a-82d5-69a4deca157e"
   },
   "outputs": [],
   "source": [
    "hero_regex = re.compile (r'Batman|Tina Fey')\n",
    "mo1 = hero_regex.search('Batman and Tina Fey.')\n",
    "mo1.group()"
   ]
  },
  {
   "cell_type": "code",
   "execution_count": null,
   "metadata": {
    "id": "dc1n13RBYhfl",
    "outputId": "babd02ac-6647-4c69-9ffc-738ce930fec9"
   },
   "outputs": [],
   "source": [
    "mo2 = hero_regex.search('Tina Fey and Batman.')\n",
    "mo2.group()"
   ]
  },
  {
   "cell_type": "code",
   "execution_count": null,
   "metadata": {
    "id": "P9RRpF6nYhfl",
    "outputId": "37d9d377-5383-497d-c14c-beb032b6c34b"
   },
   "outputs": [],
   "source": [
    "bat_regex = re.compile(r'Bat(man|mobile|copter|bat)')\n",
    "mo = bat_regex.search('Batmobile lost a wheel')\n",
    "mo.group()"
   ]
  },
  {
   "cell_type": "code",
   "execution_count": null,
   "metadata": {
    "id": "kclFZlYvYhfl",
    "outputId": "0d32b8aa-7c65-4b18-de3d-2df6f8cc79cc"
   },
   "outputs": [],
   "source": [
    "mo.group(1)"
   ]
  },
  {
   "cell_type": "markdown",
   "metadata": {
    "id": "QhHSoOINYhfl"
   },
   "source": [
    "### Matching with ? Mark\n",
    "The ? character flags the group that precedes it as an optional part of the pattern."
   ]
  },
  {
   "cell_type": "code",
   "execution_count": null,
   "metadata": {
    "id": "essa2v7oYhfl",
    "outputId": "34a2dcbc-908b-45e7-ba8a-e6f402f8d082"
   },
   "outputs": [],
   "source": [
    "bat_regex = re.compile(r'Bat(wo)?man')\n",
    "mo1 = bat_regex.search('The Adventures of Batman')\n",
    "mo1.group()"
   ]
  },
  {
   "cell_type": "code",
   "execution_count": null,
   "metadata": {
    "id": "gs_bBVRVYhfl",
    "outputId": "b4bdf8eb-3d31-4802-9f8a-f845b7cb19e2"
   },
   "outputs": [],
   "source": [
    "mo2 = bat_regex.search('The Adventures of Batwoman')\n",
    "mo2.group()"
   ]
  },
  {
   "cell_type": "markdown",
   "metadata": {
    "id": "yXypX9S0Yhfl"
   },
   "source": [
    "### Matching Zero or More with the Star\n",
    "The * (called the star or asterisk) means “match zero or more”—the group that precedes the star can occur any number of times in the text."
   ]
  },
  {
   "cell_type": "code",
   "execution_count": null,
   "metadata": {
    "id": "pn_zRWSnYhfl",
    "outputId": "7ece51af-73f1-4681-94c5-c13907f38d7e"
   },
   "outputs": [],
   "source": [
    "bat_regex = re.compile(r'Bat(wo)*man')\n",
    "mo1 = bat_regex.search('The Adventures of Batman')\n",
    "mo1.group()"
   ]
  },
  {
   "cell_type": "code",
   "execution_count": null,
   "metadata": {
    "id": "KD6tyXNtYhfm",
    "outputId": "d80d62a5-5f5c-495d-d55b-c2ed22176a6b"
   },
   "outputs": [],
   "source": [
    "mo2 = bat_regex.search('The Adventures of Batwoman')\n",
    "mo2.group()"
   ]
  },
  {
   "cell_type": "code",
   "execution_count": null,
   "metadata": {
    "id": "romlncrgYhfm",
    "outputId": "c8ee3b3f-62f9-4f9b-d4d8-2f0fd0ff2f78"
   },
   "outputs": [],
   "source": [
    "mo3 = bat_regex.search('The Adventures of Batwowowowoman')\n",
    "mo3.group()"
   ]
  },
  {
   "cell_type": "markdown",
   "metadata": {
    "id": "R0Z9hT-wYhfm"
   },
   "source": [
    "### Matching One or More with the Plus\n",
    "While * means “match zero or more,” the + (or plus) means “match one or more”. The group preceding a plus must appear at least once. It is not optional:"
   ]
  },
  {
   "cell_type": "code",
   "execution_count": null,
   "metadata": {
    "id": "YT40rNQbYhfm",
    "outputId": "752b6a8d-6bf9-4f2c-c1b0-d926e8578309"
   },
   "outputs": [],
   "source": [
    "bat_regex = re.compile(r'Bat(wo)+man')\n",
    "mo1 = bat_regex.search('The Adventures of Batwoman')\n",
    "mo1.group()"
   ]
  },
  {
   "cell_type": "code",
   "execution_count": null,
   "metadata": {
    "id": "IZfJnrjRYhfm",
    "outputId": "260b432c-5858-49a5-9237-7861b516b5a8"
   },
   "outputs": [],
   "source": [
    "mo2 = bat_regex.search('The Adventures of Batwowowowoman')\n",
    "mo2.group()"
   ]
  },
  {
   "cell_type": "code",
   "execution_count": null,
   "metadata": {
    "id": "36WbGqToYhfm",
    "outputId": "dd0f2c66-f3e0-4462-b657-b60718d0b2f2"
   },
   "outputs": [],
   "source": [
    "mo3 = bat_regex.search('The Adventures of Batman')\n",
    "mo3 is None"
   ]
  },
  {
   "cell_type": "markdown",
   "metadata": {
    "id": "pDvyKAOIYhfm"
   },
   "source": [
    "### Matching Specific Repetitions with Curly Brackets\n",
    "If you have a group that you want to repeat a specific number of times, follow the group in your regex with a number in curly brackets. For example, the regex (Ha){3} will match the string 'HaHaHa', but it will not match 'HaHa', since the latter has only two repeats of the (Ha) group.\n",
    "\n",
    "Instead of one number, you can specify a range by writing a minimum, a comma, and a maximum in between the curly brackets. For example, the regex (Ha){3,5} will match 'HaHaHa', 'HaHaHaHa', and 'HaHaHaHaHa'."
   ]
  },
  {
   "cell_type": "code",
   "execution_count": null,
   "metadata": {
    "id": "IE35KWZ2Yhfm",
    "outputId": "3aafec1f-3e65-4aeb-9419-2a1f60b9969e"
   },
   "outputs": [],
   "source": [
    "ha_regex = re.compile(r'(Ha){3}')\n",
    "mo1 = ha_regex.search('HaHaHa')\n",
    "mo1.group()"
   ]
  },
  {
   "cell_type": "code",
   "execution_count": null,
   "metadata": {
    "id": "DSRJBbGGYhfm",
    "outputId": "bf3a6512-9853-4851-8ae8-1246a6303d3e"
   },
   "outputs": [],
   "source": [
    "mo2 = ha_regex.search('Ha')\n",
    "mo2 is None"
   ]
  },
  {
   "cell_type": "markdown",
   "metadata": {
    "id": "7QMwRXSAYhfm"
   },
   "source": [
    "### Greedy and Nongreedy Matching\n",
    "Python’s regular expressions are greedy by default, which means that in ambiguous situations they will match the longest string possible. The non-greedy version of the curly brackets, which matches the shortest string possible, has the closing curly bracket followed by a question mark."
   ]
  },
  {
   "cell_type": "code",
   "execution_count": null,
   "metadata": {
    "id": "eY8xti9EYhfn",
    "outputId": "dd359c5c-db7c-4ada-8645-e6f08c22e492"
   },
   "outputs": [],
   "source": [
    "greedy_ha_regex = re.compile(r'(Ha){3,5}')\n",
    "mo1 = greedy_ha_regex.search('HaHaHaHaHa')\n",
    "mo1.group()"
   ]
  },
  {
   "cell_type": "code",
   "execution_count": null,
   "metadata": {
    "id": "qhGEkdNOYhfn",
    "outputId": "96b1476c-e669-4ecb-b321-758b6fd9f317"
   },
   "outputs": [],
   "source": [
    "nongreedy_ha_regex = re.compile(r'(Ha){3,5}?')\n",
    "mo2 = nongreedy_ha_regex.search('HaHaHaHaHa')\n",
    "mo2.group()"
   ]
  },
  {
   "cell_type": "markdown",
   "metadata": {
    "id": "BJgDTPD6Yhfn"
   },
   "source": [
    "### The findall() Method\n",
    "In addition to the search() method, Regex objects also have a findall() method. While search() will return a Match object of the first matched text in the searched string, the findall() method will return the strings of every match in the searched string."
   ]
  },
  {
   "cell_type": "code",
   "execution_count": null,
   "metadata": {
    "id": "llKwT6kqYhfn",
    "outputId": "c869e9a1-a37a-4503-ae32-85d8fa56df4c"
   },
   "outputs": [],
   "source": [
    "phone_num_regex = re.compile(r'\\d\\d\\d-\\d\\d\\d-\\d\\d\\d\\d')\n",
    "phone_num_regex.findall('Cell: 415-555-9999 Work: 212-555-0000')"
   ]
  },
  {
   "cell_type": "markdown",
   "metadata": {
    "id": "M87Db0r4Yhfn"
   },
   "source": [
    "### Making Your Own Character Classes\n",
    "There are times when you want to match a set of characters but the shorthand character classes (\\d, \\w, \\s, and so on) are too broad. You can define your own character class using square brackets. For example, the character class [aeiouAEIOU] will match any vowel, both lowercase and uppercase."
   ]
  },
  {
   "cell_type": "code",
   "execution_count": null,
   "metadata": {
    "id": "eTehmD2KYhfn",
    "outputId": "b2e57705-95ad-4cfc-ef7a-e3b97b6bf54d"
   },
   "outputs": [],
   "source": [
    "vowel_regex = re.compile(r'[aeiouAEIOU]')\n",
    "vowel_regex.findall('Robocop eats baby food. BABY FOOD.')"
   ]
  },
  {
   "cell_type": "code",
   "execution_count": null,
   "metadata": {
    "id": "NOR6F1m4Yhfn",
    "outputId": "6311f6d4-ba15-4cb4-8a4a-a3a18c6e6f5f"
   },
   "outputs": [],
   "source": [
    "consonant_regex = re.compile(r'[^aeiouAEIOU]')\n",
    "consonant_regex.findall('Robocop eats baby food. BABY FOOD.')"
   ]
  },
  {
   "cell_type": "markdown",
   "metadata": {
    "id": "gRsxLroWYhfn"
   },
   "source": [
    "### The Caret and Dollar Sign Characters\n",
    "You can also use the caret symbol (^) at the start of a regex to indicate that a match must occur at the beginning of the searched text.\n",
    "\n",
    "Likewise, you can put a dollar sign (\\$) at the end of the regex to indicate the string must end with this regex pattern.\n",
    "\n",
    "And you can use the ^ and \\$ together to indicate that the entire string must match the regex—that is, it’s not enough for a match to be made on some subset of the string.\n",
    "\n",
    "The r'^Hello' regular expression string matches strings that begin with 'Hello':"
   ]
  },
  {
   "cell_type": "code",
   "execution_count": null,
   "metadata": {
    "id": "cbPB3ZkzYhfn",
    "outputId": "81a16419-b09a-4789-91f8-3730c26494bd"
   },
   "outputs": [],
   "source": [
    "begins_with_hello = re.compile(r'^Hello')\n",
    "begins_with_hello.search('Hello world!')"
   ]
  },
  {
   "cell_type": "code",
   "execution_count": null,
   "metadata": {
    "id": "OanYbQoDYhfn",
    "outputId": "0297953c-b127-404a-89a5-8718f18f176c"
   },
   "outputs": [],
   "source": [
    "begins_with_hello.search('He said hello.') is None"
   ]
  },
  {
   "cell_type": "code",
   "execution_count": null,
   "metadata": {
    "id": "BSZIlnrBYhfo",
    "outputId": "dbde085c-83d8-41eb-a31a-ecf4bade7ab2"
   },
   "outputs": [],
   "source": [
    "whole_string_is_num = re.compile(r'^\\d+$')\n",
    "whole_string_is_num.search('1234567890')"
   ]
  },
  {
   "cell_type": "code",
   "execution_count": null,
   "metadata": {
    "id": "OvxeogBDYhfo",
    "outputId": "46c305b8-cb6f-433c-8d5d-5d4166f0c8d9"
   },
   "outputs": [],
   "source": [
    "whole_string_is_num.search('12345xyz67890') is None"
   ]
  },
  {
   "cell_type": "code",
   "execution_count": null,
   "metadata": {
    "id": "H7Vqeb7OYhfo",
    "outputId": "50083fa9-c914-431d-f831-7d59598e7eb8"
   },
   "outputs": [],
   "source": [
    "whole_string_is_num.search('12 34567890') is None"
   ]
  },
  {
   "cell_type": "markdown",
   "metadata": {
    "id": "kzk3xwHvYhfo"
   },
   "source": [
    "### The Wildcard Character\n",
    "The . (or dot) character in a regular expression is called a wildcard and will match any character except for a newline:"
   ]
  },
  {
   "cell_type": "code",
   "execution_count": null,
   "metadata": {
    "id": "CAWsXqfvYhfo",
    "outputId": "c9057a3c-e502-403a-8164-d628ffa0699f"
   },
   "outputs": [],
   "source": [
    "at_regex = re.compile(r'.at')\n",
    "at_regex.findall('The cat in the hat sat on the flat mat.')"
   ]
  },
  {
   "cell_type": "code",
   "execution_count": null,
   "metadata": {
    "id": "_1XxUzFUYhfo",
    "outputId": "297a4e1e-8702-45e3-aa4c-29f1e8417366"
   },
   "outputs": [],
   "source": [
    "name_regex = re.compile(r'First Name: (.*) Last Name: (.*)')\n",
    "mo = name_regex.search('First Name: Al Last Name: Sweigart')\n",
    "mo.group(1)"
   ]
  },
  {
   "cell_type": "code",
   "execution_count": null,
   "metadata": {
    "id": "p_cu3wbRYhfo",
    "outputId": "28858510-8985-4a76-d2c4-a889ce2d888b"
   },
   "outputs": [],
   "source": [
    "mo.group(2)"
   ]
  },
  {
   "cell_type": "markdown",
   "metadata": {
    "id": "EhTX44Y6Yhfo"
   },
   "source": [
    "#### The dot-star uses greedy mode: It will always try to match as much text as possible. To match any and all text in a nongreedy fashion, use the dot, star, and question mark (.*?). The question mark tells Python to match in a nongreedy way:"
   ]
  },
  {
   "cell_type": "code",
   "execution_count": null,
   "metadata": {
    "id": "Kft0xIKwYhfo",
    "outputId": "a0f4ca1b-78df-4e2c-cd32-198d14547357"
   },
   "outputs": [],
   "source": [
    "nongreedy_regex = re.compile(r'<.*?>')\n",
    "mo = nongreedy_regex.search('<To serve man> for dinner.>')\n",
    "mo.group()"
   ]
  },
  {
   "cell_type": "code",
   "execution_count": null,
   "metadata": {
    "id": "KUss_QyUYhfo",
    "outputId": "6f56d09a-4b37-4367-bb6b-3d07c4070b1c"
   },
   "outputs": [],
   "source": [
    "greedy_regex = re.compile(r'<.*>')\n",
    "mo = greedy_regex.search('<To serve man> for dinner.>')\n",
    "mo.group()"
   ]
  },
  {
   "cell_type": "markdown",
   "metadata": {
    "id": "-uL1y3xFYhfp"
   },
   "source": [
    "#### Matching Newlines with the Dot Character\n",
    "The dot-star will match everything except a newline. By passing re.DOTALL as the second argument to re.compile(), you can make the dot character match all characters, including the newline character:"
   ]
  },
  {
   "cell_type": "code",
   "execution_count": null,
   "metadata": {
    "id": "RvQqyHgGYhfp",
    "outputId": "00d73e6c-7ac6-46c5-fb22-9b50d86d07d5"
   },
   "outputs": [],
   "source": [
    "no_newline_regex = re.compile('.*')\n",
    "no_newline_regex.search('Serve the public trust.\\nProtect the innocent.\\nUphold the law.').group()"
   ]
  },
  {
   "cell_type": "code",
   "execution_count": null,
   "metadata": {
    "id": "KLlUgihIYhfp",
    "outputId": "ed6a597c-ff9a-4c63-8e39-29abdc0b4c06"
   },
   "outputs": [],
   "source": [
    "newline_regex = re.compile('.*', re.DOTALL)\n",
    "newline_regex.search('Serve the public trust.\\nProtect the innocent.\\nUphold the law.').group()"
   ]
  },
  {
   "cell_type": "raw",
   "metadata": {
    "id": "ejAwS7C-Yhfp"
   },
   "source": [
    "### Review of Regex Symbols\n",
    "Symbol\tMatches\n",
    "?\tzero or one of the preceding group.\n",
    "*\tzero or more of the preceding group.\n",
    "+\tone or more of the preceding group.\n",
    "{n}\texactly n of the preceding group.\n",
    "{n,}\tn or more of the preceding group.\n",
    "{,m}\t0 to m of the preceding group.\n",
    "{n,m}\tat least n and at most m of the preceding p.\n",
    "{n,m}? or *? or +?\tperforms a nongreedy match of the preceding p.\n",
    "^spam\tmeans the string must begin with spam.\n",
    "spam$\tmeans the string must end with spam.\n",
    ".\tany character, except newline characters.\n",
    "\\d, \\w, and \\s\ta digit, word, or space character, respectively.\n",
    "\\D, \\W, and \\S\tanything except a digit, word, or space, respectively.\n",
    "[abc]\tany character between the brackets (such as a, b, ).\n",
    "[^abc]\tany character that isn’t between the brackets."
   ]
  },
  {
   "cell_type": "markdown",
   "metadata": {
    "id": "oaq9R16eYhfp"
   },
   "source": [
    "### Case-Insensitive Matching\n",
    "To make your regex case-insensitive, you can pass re.IGNORECASE or re.I as a second argument to re.compile():"
   ]
  },
  {
   "cell_type": "code",
   "execution_count": null,
   "metadata": {
    "id": "fLUOySGUYhfp",
    "outputId": "ec0c41a5-2052-4f02-d076-e9bead9f4c4b"
   },
   "outputs": [],
   "source": [
    "robocop = re.compile(r'robocop', re.I)\n",
    "robocop.search('Robocop is part man, part machine, all cop.').group()"
   ]
  },
  {
   "cell_type": "code",
   "execution_count": null,
   "metadata": {
    "id": "K84CBYNZYhfp",
    "outputId": "b8213df9-25b4-4908-a7f0-1cb9acc4e298"
   },
   "outputs": [],
   "source": [
    "robocop.search('ROBOCOP protects the innocent.').group()"
   ]
  },
  {
   "cell_type": "code",
   "execution_count": null,
   "metadata": {
    "id": "2JmHBzYJYhfp",
    "outputId": "63f78ceb-7ee7-494a-9adf-2551c1219da7"
   },
   "outputs": [],
   "source": [
    "robocop.search('Al, why does your programming book talk about robocop so much?').group()"
   ]
  },
  {
   "cell_type": "markdown",
   "metadata": {
    "id": "Kel05VMEYhfp"
   },
   "source": [
    "#### Substituting Strings with the sub() Method\n",
    "The sub() method for Regex objects is passed two arguments:\n",
    "\n",
    "The first argument is a string to replace any matches.\n",
    "The second is the string for the regular expression.\n",
    "The sub() method returns a string with the substitutions applied:"
   ]
  },
  {
   "cell_type": "code",
   "execution_count": null,
   "metadata": {
    "id": "J6hN3FIsYhfp",
    "outputId": "5e5af873-24c5-4d04-ba91-ef16f8b5948d"
   },
   "outputs": [],
   "source": [
    "names_regex = re.compile(r'Agent \\w+')\n",
    "names_regex.sub('CENSORED', 'Agent Alice gave the secret documents to Agent Bob.')"
   ]
  },
  {
   "cell_type": "code",
   "execution_count": null,
   "metadata": {
    "id": "5WApdEHxYhfq",
    "outputId": "1258c7cc-a0e9-4d16-aabb-023c29227dc2"
   },
   "outputs": [],
   "source": [
    "agent_names_regex = re.compile(r'Agent (\\w)\\w*')\n",
    "agent_names_regex.sub(r'\\1****', 'Agent Alice told Agent Carol that Agent Eve knew Agent Bob was a double agent.')"
   ]
  },
  {
   "cell_type": "markdown",
   "metadata": {
    "id": "O-6NuT8zYhfq"
   },
   "source": [
    "# Handling File and Directory Paths\n",
    "There are two main modules in Python that deals with path manipulation. One is the os.path module and the other is the pathlib module. The pathlib module was added in Python 3.4, offering an object-oriented way to handle file system paths.\n",
    "\n",
    "Backslash on Windows and Forward Slash on OS X and Linux\n",
    "On Windows, paths are written using backslashes (\\) as the separator between folder names. On Unix based operating system such as macOS, Linux, and BSDs, the forward slash (/) is used as the path separator. Joining paths can be a headache if your code needs to work on different platforms.\n",
    "\n",
    "Fortunately, Python provides easy ways to handle this. We will showcase how to deal with this with both os.path.join and pathlib.Path.joinpath\n",
    "\n",
    "Using os.path.join on Windows:"
   ]
  },
  {
   "cell_type": "code",
   "execution_count": null,
   "metadata": {
    "id": "cIHicQqsYhfq",
    "outputId": "5a9c007a-7327-47d8-8b21-ccb5207fb84c"
   },
   "outputs": [],
   "source": [
    "import os\n",
    "os.path.join('usr', 'bin', 'spam')"
   ]
  },
  {
   "cell_type": "code",
   "execution_count": null,
   "metadata": {
    "id": "8ixsW_nrYhfq",
    "outputId": "5014a1ae-9e36-412a-ed35-790297b78bb6"
   },
   "outputs": [],
   "source": [
    "from pathlib import Path\n",
    "print(Path('usr').joinpath('bin').joinpath('spam'))"
   ]
  },
  {
   "cell_type": "code",
   "execution_count": null,
   "metadata": {
    "id": "59pO1bawYhfq",
    "outputId": "2db11725-0997-433f-8f1f-7b6bd139e56c"
   },
   "outputs": [],
   "source": [
    "from pathlib import Path\n",
    "print(Path('usr') / 'bin' / 'spam')"
   ]
  },
  {
   "cell_type": "code",
   "execution_count": null,
   "metadata": {
    "id": "HPIvlaDwYhfq",
    "outputId": "5e7d4579-956a-4ac8-a525-b85b2d2389f2"
   },
   "outputs": [],
   "source": [
    "my_files = ['accounts.txt', 'details.csv', 'invite.docx']\n",
    "for filename in my_files:\n",
    "    print(os.path.join('C:\\\\Users\\\\asweigart', filename))"
   ]
  },
  {
   "cell_type": "code",
   "execution_count": null,
   "metadata": {
    "id": "CkbEML5nYhfq",
    "outputId": "9c8d53ba-ab9c-4cb2-8f9f-221f11344253"
   },
   "outputs": [],
   "source": [
    "my_files = ['accounts.txt', 'details.csv', 'invite.docx']\n",
    "home = Path.home()\n",
    "for filename in my_files:\n",
    "    print(home / filename)"
   ]
  },
  {
   "cell_type": "code",
   "execution_count": null,
   "metadata": {
    "id": "l-5rzYJVYhfq",
    "outputId": "df3d0c24-a9d9-4ed6-f963-9c9a31f47cea"
   },
   "outputs": [],
   "source": [
    "import os\n",
    "os.getcwd()"
   ]
  },
  {
   "cell_type": "code",
   "execution_count": null,
   "metadata": {
    "id": "xnV4R25bYhfq",
    "outputId": "4fa36698-e94e-49a0-88fb-adc8257a04aa"
   },
   "outputs": [],
   "source": [
    "os.chdir('C:\\\\Windows\\\\System32')\n",
    "os.getcwd()"
   ]
  },
  {
   "cell_type": "code",
   "execution_count": null,
   "metadata": {
    "id": "XG9g8AYSYhfq",
    "outputId": "00929709-0ccf-4961-cc75-34cf810883e4"
   },
   "outputs": [],
   "source": [
    "os.makedirs('C:\\\\delicious\\\\walnut\\\\waffles')"
   ]
  },
  {
   "cell_type": "code",
   "execution_count": null,
   "metadata": {
    "id": "ntID_a2_Yhfr"
   },
   "outputs": [],
   "source": [
    "total_size = 0\n",
    "for filename in os.listdir('C:\\\\Windows\\\\System32'):\n",
    "      total_size = total_size + os.path.getsize(os.path.join('C:\\\\Windows\\\\System32', filename))\n",
    "print(total_size)"
   ]
  },
  {
   "cell_type": "code",
   "execution_count": null,
   "metadata": {
    "id": "YlD5o0pHYhfr"
   },
   "outputs": [],
   "source": [
    "import shutil, os\n",
    "#shutil.copy('C:\\\\spam.txt', 'C:\\\\delicious')"
   ]
  },
  {
   "cell_type": "markdown",
   "metadata": {
    "id": "JA5H00FUYhfr"
   },
   "source": [
    "#### Opening and reading files with the open() function"
   ]
  },
  {
   "cell_type": "code",
   "execution_count": null,
   "metadata": {
    "id": "I7wBeQi-Yhft"
   },
   "outputs": [],
   "source": [
    "with open('C:\\\\Users\\\\your_home_folder\\\\hello.txt') as hello_file:\n",
    "    hello_content = hello_file.read()\n",
    "hello_content"
   ]
  },
  {
   "cell_type": "markdown",
   "metadata": {
    "id": "LJugQP5rYhft"
   },
   "source": [
    "#### JSON, YAML and configuration files\n",
    "JSON\n",
    "Open a JSON file with:"
   ]
  },
  {
   "cell_type": "markdown",
   "metadata": {
    "id": "vKI-C9QkYhft"
   },
   "source": [
    "import json\n",
    "with open(\"filename.json\", \"r\") as f:\n",
    "    content = json.loads(f.read())"
   ]
  },
  {
   "cell_type": "code",
   "execution_count": null,
   "metadata": {
    "id": "0KogompAYhft"
   },
   "outputs": [],
   "source": [
    "import json\n",
    "\n",
    "content = {\"name\": \"Joe\", \"age\": 20}\n",
    "with open(\"filename.json\", \"w\") as f:\n",
    "    f.write(json.dumps(content, indent=2))"
   ]
  },
  {
   "cell_type": "markdown",
   "metadata": {
    "id": "FxH7AmNwYhft"
   },
   "source": [
    "from ruamel.yaml import YAML\n",
    "\n",
    "with open(\"filename.yaml\") as f:\n",
    "    yaml=YAML()\n",
    "    yaml.load(f)"
   ]
  }
 ],
 "metadata": {
  "colab": {
   "name": "NHO_Python_Tutorial.ipynb",
   "provenance": [],
   "toc_visible": true
  },
  "kernelspec": {
   "display_name": "Python 3 (ipykernel)",
   "language": "python",
   "name": "python3"
  },
  "language_info": {
   "codemirror_mode": {
    "name": "ipython",
    "version": 3
   },
   "file_extension": ".py",
   "mimetype": "text/x-python",
   "name": "python",
   "nbconvert_exporter": "python",
   "pygments_lexer": "ipython3",
   "version": "3.9.12"
  }
 },
 "nbformat": 4,
 "nbformat_minor": 1
}
